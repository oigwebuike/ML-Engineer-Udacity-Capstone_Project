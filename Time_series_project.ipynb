{
 "cells": [
  {
   "cell_type": "markdown",
   "metadata": {},
   "source": [
    "# Machine Learning Engineer Nanodegree\n",
    "# Capstone Project: Investment and Trading Capstone Project\n",
    "\n",
    "**Igwebuike Onyeka Daniel**\n",
    "\n",
    "**January 31st, 2021**\n",
    "\n",
    "\n",
    ">Definition: **Project Overview**\n",
    "\n",
    ">In very recent times, finance industries and firms have used trading models to predict possible future outcomes, and study market movements for better and more profits. \n",
    "Leveraging on the immense amount of data available, machine learning models can use knowledge of past sequences and predict possible future results, using one of many machine learning algorithms available. These data sources include (not limited to) Google, Yahoo, Bloomberg etc. However, for this project, I have used Yahoo data source. \n",
    "The aim of this project is to develop a model that learns from past available data and predict possible future outcomes at given time intervals.\n"
   ]
  },
  {
   "cell_type": "markdown",
   "metadata": {},
   "source": [
    "**Time Series Prediction**\n",
    "\n",
    "This project uses Machine Learning to predict the future closing prices of stock market prices. The Stock market prices are of the Time Series type, which means they are indexed in an ordered timed form, where steps are in a timed-ordered form. This type of series is of numerical type, a sequence of numerical data points in successive ordered form."
   ]
  },
  {
   "cell_type": "code",
   "execution_count": 1,
   "metadata": {},
   "outputs": [
    {
     "name": "stdout",
     "output_type": "stream",
     "text": [
      "Requirement already satisfied: sagemaker in /home/ec2-user/anaconda3/envs/amazonei_mxnet_p36/lib/python3.6/site-packages (2.24.1)\n",
      "Collecting sagemaker\n",
      "  Downloading sagemaker-2.25.1.tar.gz (396 kB)\n",
      "\u001b[K     |████████████████████████████████| 396 kB 24.1 MB/s eta 0:00:01\n",
      "\u001b[?25hRequirement already satisfied: attrs in /home/ec2-user/anaconda3/envs/amazonei_mxnet_p36/lib/python3.6/site-packages (from sagemaker) (20.3.0)\n",
      "Requirement already satisfied: boto3>=1.16.32 in /home/ec2-user/anaconda3/envs/amazonei_mxnet_p36/lib/python3.6/site-packages (from sagemaker) (1.16.63)\n",
      "Requirement already satisfied: google-pasta in /home/ec2-user/anaconda3/envs/amazonei_mxnet_p36/lib/python3.6/site-packages (from sagemaker) (0.2.0)\n",
      "Requirement already satisfied: numpy>=1.9.0 in /home/ec2-user/anaconda3/envs/amazonei_mxnet_p36/lib/python3.6/site-packages (from sagemaker) (1.19.5)\n",
      "Requirement already satisfied: protobuf>=3.1 in /home/ec2-user/anaconda3/envs/amazonei_mxnet_p36/lib/python3.6/site-packages (from sagemaker) (3.14.0)\n",
      "Requirement already satisfied: protobuf3-to-dict>=0.1.5 in /home/ec2-user/anaconda3/envs/amazonei_mxnet_p36/lib/python3.6/site-packages (from sagemaker) (0.1.5)\n",
      "Requirement already satisfied: smdebug_rulesconfig==1.0.1 in /home/ec2-user/anaconda3/envs/amazonei_mxnet_p36/lib/python3.6/site-packages (from sagemaker) (1.0.1)\n",
      "Requirement already satisfied: importlib-metadata>=1.4.0 in /home/ec2-user/anaconda3/envs/amazonei_mxnet_p36/lib/python3.6/site-packages (from sagemaker) (3.4.0)\n",
      "Requirement already satisfied: packaging>=20.0 in /home/ec2-user/anaconda3/envs/amazonei_mxnet_p36/lib/python3.6/site-packages (from sagemaker) (20.8)\n",
      "Requirement already satisfied: s3transfer<0.4.0,>=0.3.0 in /home/ec2-user/anaconda3/envs/amazonei_mxnet_p36/lib/python3.6/site-packages (from boto3>=1.16.32->sagemaker) (0.3.4)\n",
      "Requirement already satisfied: botocore<1.20.0,>=1.19.63 in /home/ec2-user/anaconda3/envs/amazonei_mxnet_p36/lib/python3.6/site-packages (from boto3>=1.16.32->sagemaker) (1.19.63)\n",
      "Requirement already satisfied: jmespath<1.0.0,>=0.7.1 in /home/ec2-user/anaconda3/envs/amazonei_mxnet_p36/lib/python3.6/site-packages (from boto3>=1.16.32->sagemaker) (0.10.0)\n",
      "Requirement already satisfied: python-dateutil<3.0.0,>=2.1 in /home/ec2-user/anaconda3/envs/amazonei_mxnet_p36/lib/python3.6/site-packages (from botocore<1.20.0,>=1.19.63->boto3>=1.16.32->sagemaker) (2.8.1)\n",
      "Requirement already satisfied: urllib3<1.27,>=1.25.4 in /home/ec2-user/anaconda3/envs/amazonei_mxnet_p36/lib/python3.6/site-packages (from botocore<1.20.0,>=1.19.63->boto3>=1.16.32->sagemaker) (1.26.2)\n",
      "Requirement already satisfied: typing-extensions>=3.6.4 in /home/ec2-user/anaconda3/envs/amazonei_mxnet_p36/lib/python3.6/site-packages (from importlib-metadata>=1.4.0->sagemaker) (3.7.4.3)\n",
      "Requirement already satisfied: zipp>=0.5 in /home/ec2-user/anaconda3/envs/amazonei_mxnet_p36/lib/python3.6/site-packages (from importlib-metadata>=1.4.0->sagemaker) (3.4.0)\n",
      "Requirement already satisfied: pyparsing>=2.0.2 in /home/ec2-user/anaconda3/envs/amazonei_mxnet_p36/lib/python3.6/site-packages (from packaging>=20.0->sagemaker) (2.4.7)\n",
      "Requirement already satisfied: six>=1.9 in /home/ec2-user/anaconda3/envs/amazonei_mxnet_p36/lib/python3.6/site-packages (from protobuf>=3.1->sagemaker) (1.15.0)\n",
      "Building wheels for collected packages: sagemaker\n",
      "  Building wheel for sagemaker (setup.py) ... \u001b[?25ldone\n",
      "\u001b[?25h  Created wheel for sagemaker: filename=sagemaker-2.25.1-py2.py3-none-any.whl size=561790 sha256=32ffead23b259e98a5e23f58f64fe01116187a2c91358907a6ac8c7f1aa91287\n",
      "  Stored in directory: /home/ec2-user/.cache/pip/wheels/d8/2b/86/5fab7e5495c9823e8ec22cebae8174670905dbac1b94408fac\n",
      "Successfully built sagemaker\n",
      "Installing collected packages: sagemaker\n",
      "  Attempting uninstall: sagemaker\n",
      "    Found existing installation: sagemaker 2.24.1\n",
      "    Uninstalling sagemaker-2.24.1:\n",
      "      Successfully uninstalled sagemaker-2.24.1\n",
      "Successfully installed sagemaker-2.25.1\n",
      "\u001b[33mWARNING: You are using pip version 20.3.3; however, version 21.0.1 is available.\n",
      "You should consider upgrading via the '/home/ec2-user/anaconda3/envs/amazonei_mxnet_p36/bin/python -m pip install --upgrade pip' command.\u001b[0m\n"
     ]
    }
   ],
   "source": [
    "!pip install -U sagemaker"
   ]
  },
  {
   "cell_type": "code",
   "execution_count": 2,
   "metadata": {},
   "outputs": [],
   "source": [
    "#!pip install sagemaker==1.72.0"
   ]
  },
  {
   "cell_type": "code",
   "execution_count": 3,
   "metadata": {},
   "outputs": [
    {
     "name": "stdout",
     "output_type": "stream",
     "text": [
      "Collecting pandas_datareader\n",
      "  Downloading pandas_datareader-0.9.0-py3-none-any.whl (107 kB)\n",
      "\u001b[K     |████████████████████████████████| 107 kB 15.0 MB/s eta 0:00:01\n",
      "\u001b[?25hRequirement already satisfied: requests>=2.19.0 in /home/ec2-user/anaconda3/envs/amazonei_mxnet_p36/lib/python3.6/site-packages (from pandas_datareader) (2.25.1)\n",
      "Requirement already satisfied: pandas>=0.23 in /home/ec2-user/anaconda3/envs/amazonei_mxnet_p36/lib/python3.6/site-packages (from pandas_datareader) (1.0.1)\n",
      "Requirement already satisfied: lxml in /home/ec2-user/anaconda3/envs/amazonei_mxnet_p36/lib/python3.6/site-packages (from pandas_datareader) (4.5.0)\n",
      "Requirement already satisfied: pytz>=2017.2 in /home/ec2-user/anaconda3/envs/amazonei_mxnet_p36/lib/python3.6/site-packages (from pandas>=0.23->pandas_datareader) (2019.3)\n",
      "Requirement already satisfied: python-dateutil>=2.6.1 in /home/ec2-user/anaconda3/envs/amazonei_mxnet_p36/lib/python3.6/site-packages (from pandas>=0.23->pandas_datareader) (2.8.1)\n",
      "Requirement already satisfied: numpy>=1.13.3 in /home/ec2-user/anaconda3/envs/amazonei_mxnet_p36/lib/python3.6/site-packages (from pandas>=0.23->pandas_datareader) (1.19.5)\n",
      "Requirement already satisfied: six>=1.5 in /home/ec2-user/anaconda3/envs/amazonei_mxnet_p36/lib/python3.6/site-packages (from python-dateutil>=2.6.1->pandas>=0.23->pandas_datareader) (1.15.0)\n",
      "Requirement already satisfied: chardet<5,>=3.0.2 in /home/ec2-user/anaconda3/envs/amazonei_mxnet_p36/lib/python3.6/site-packages (from requests>=2.19.0->pandas_datareader) (4.0.0)\n",
      "Requirement already satisfied: certifi>=2017.4.17 in /home/ec2-user/anaconda3/envs/amazonei_mxnet_p36/lib/python3.6/site-packages (from requests>=2.19.0->pandas_datareader) (2020.12.5)\n",
      "Requirement already satisfied: urllib3<1.27,>=1.21.1 in /home/ec2-user/anaconda3/envs/amazonei_mxnet_p36/lib/python3.6/site-packages (from requests>=2.19.0->pandas_datareader) (1.26.2)\n",
      "Requirement already satisfied: idna<3,>=2.5 in /home/ec2-user/anaconda3/envs/amazonei_mxnet_p36/lib/python3.6/site-packages (from requests>=2.19.0->pandas_datareader) (2.10)\n",
      "Installing collected packages: pandas-datareader\n",
      "Successfully installed pandas-datareader-0.9.0\n",
      "\u001b[33mWARNING: You are using pip version 20.3.3; however, version 21.0.1 is available.\n",
      "You should consider upgrading via the '/home/ec2-user/anaconda3/envs/amazonei_mxnet_p36/bin/python -m pip install --upgrade pip' command.\u001b[0m\n"
     ]
    }
   ],
   "source": [
    "!pip install pandas_datareader"
   ]
  },
  {
   "cell_type": "code",
   "execution_count": 4,
   "metadata": {},
   "outputs": [
    {
     "name": "stdout",
     "output_type": "stream",
     "text": [
      "Collecting pystan\n",
      "  Downloading pystan-2.19.1.1-cp36-cp36m-manylinux1_x86_64.whl (67.3 MB)\n",
      "\u001b[K     |████████████████████████████████| 67.3 MB 57 kB/s s eta 0:00:01\n",
      "\u001b[?25hRequirement already satisfied: Cython!=0.25.1,>=0.22 in /home/ec2-user/anaconda3/envs/amazonei_mxnet_p36/lib/python3.6/site-packages (from pystan) (0.29.15)\n",
      "Requirement already satisfied: numpy>=1.7 in /home/ec2-user/anaconda3/envs/amazonei_mxnet_p36/lib/python3.6/site-packages (from pystan) (1.19.5)\n",
      "Installing collected packages: pystan\n",
      "Successfully installed pystan-2.19.1.1\n",
      "\u001b[33mWARNING: You are using pip version 20.3.3; however, version 21.0.1 is available.\n",
      "You should consider upgrading via the '/home/ec2-user/anaconda3/envs/amazonei_mxnet_p36/bin/python -m pip install --upgrade pip' command.\u001b[0m\n"
     ]
    }
   ],
   "source": [
    "!pip install pystan"
   ]
  },
  {
   "cell_type": "code",
   "execution_count": 5,
   "metadata": {},
   "outputs": [],
   "source": [
    "#!conda install -c plotly plotly==3.10.0 --yes"
   ]
  },
  {
   "cell_type": "code",
   "execution_count": 6,
   "metadata": {},
   "outputs": [
    {
     "name": "stdout",
     "output_type": "stream",
     "text": [
      "Collecting package metadata (current_repodata.json): done\n",
      "Solving environment: | \n",
      "The environment is inconsistent, please check the package plan carefully\n",
      "The following packages are causing the inconsistency:\n",
      "\n",
      "  - defaults/linux-64::pandas==1.0.1=py36h0573a6f_0\n",
      "  - defaults/noarch::jupyterlab==1.2.6=pyhf63ae98_0\n",
      "  - defaults/linux-64::scikit-learn==0.22.1=py36hd81dba3_0\n",
      "  - defaults/linux-64::python-language-server==0.31.7=py36_0\n",
      "  - defaults/linux-64::bkcharts==0.2=py36_0\n",
      "  - defaults/linux-64::nb_conda==2.2.1=py36_0\n",
      "  - defaults/noarch::numpydoc==0.9.2=py_0\n",
      "  - defaults/linux-64::pytest-arraydiff==0.3=py36h39e3cac_0\n",
      "  - defaults/linux-64::bottleneck==1.3.2=py36heb32a55_0\n",
      "  - defaults/noarch::sphinx==2.4.0=py_0\n",
      "  - defaults/linux-64::pywavelets==1.1.1=py36h7b6447c_0\n",
      "  - defaults/noarch::pytest-astropy==0.8.0=py_0\n",
      "  - defaults/linux-64::numexpr==2.7.1=py36h423224d_0\n",
      "  - defaults/noarch::anaconda-project==0.8.4=py_0\n",
      "  - defaults/noarch::boto3==1.9.162=py_0\n",
      "  - defaults/linux-64::s3transfer==0.2.1=py36_0\n",
      "  - defaults/linux-64::nbconvert==5.6.1=py36_0\n",
      "  - defaults/linux-64::h5py==2.10.0=py36h7918eee_0\n",
      "  - defaults/linux-64::bokeh==1.4.0=py36_0\n",
      "  - defaults/noarch::jupyterlab_server==1.0.6=py_0\n",
      "  - defaults/linux-64::numpy-base==1.18.1=py36hde5b4d6_1\n",
      "  - defaults/noarch::botocore==1.12.189=py_0\n",
      "  - defaults/linux-64::jupyter==1.0.0=py36_7\n",
      "  - defaults/linux-64::astropy==4.0=py36h7b6447c_0\n",
      "  - defaults/linux-64::patsy==0.5.1=py36_0\n",
      "  - defaults/linux-64::scikit-image==0.16.2=py36h0573a6f_0\n",
      "  - defaults/linux-64::matplotlib-base==3.1.3=py36hef1b27d_0\n",
      "  - defaults/linux-64::imageio==2.6.1=py36_0\n",
      "  - defaults/linux-64::pytables==3.6.1=py36h71ec239_0\n",
      "  - defaults/linux-64::nb_conda_kernels==2.2.4=py36_0\n",
      "  - defaults/linux-64::mkl_fft==1.0.15=py36ha843d7b_0\n",
      "  - defaults/linux-64::statsmodels==0.11.0=py36h7b6447c_0\n",
      "  - defaults/linux-64::spyder==4.0.1=py36_0\n",
      "  - defaults/noarch::seaborn==0.10.0=py_0\n",
      "  - defaults/linux-64::requests==2.22.0=py36_1\n",
      "  - defaults/linux-64::numba==0.48.0=py36h0573a6f_0\n",
      "  - defaults/linux-64::scipy==1.4.1=py36h0b6359f_0\n",
      "  - defaults/noarch::pytest-doctestplus==0.5.0=py_0\n",
      "  - defaults/linux-64::mkl_random==1.1.0=py36hd6b4f25_0\n",
      "  - defaults/noarch::dask==2.11.0=py_0\n",
      "  - defaults/noarch::ipywidgets==7.5.1=py_0\n",
      "  - defaults/linux-64::widgetsnbextension==3.5.1=py36_0\n",
      "  - defaults/noarch::s3fs==0.4.2=py_0\n",
      "  - defaults/linux-64::notebook==6.0.3=py36_0\n",
      "  - defaults/linux-64::matplotlib==3.1.3=py36_0\n",
      "  - defaults/linux-64::anaconda-client==1.7.2=py36_0\n",
      "  - defaults/linux-64::numpy==1.18.1=py36h4f9e942_0\n",
      "failed with initial frozen solve. Retrying with flexible solve.\n",
      "Solving environment: failed with repodata from current_repodata.json, will retry with next repodata source.\n",
      "Collecting package metadata (repodata.json): done\n",
      "Solving environment: - \n",
      "The environment is inconsistent, please check the package plan carefully\n",
      "The following packages are causing the inconsistency:\n",
      "\n",
      "  - defaults/noarch::jupyterlab==1.2.6=pyhf63ae98_0\n",
      "  - defaults/linux-64::python-language-server==0.31.7=py36_0\n",
      "  - defaults/linux-64::nb_conda==2.2.1=py36_0\n",
      "  - defaults/noarch::numpydoc==0.9.2=py_0\n",
      "  - defaults/noarch::sphinx==2.4.0=py_0\n",
      "  - defaults/noarch::anaconda-project==0.8.4=py_0\n",
      "  - defaults/noarch::boto3==1.9.162=py_0\n",
      "  - defaults/linux-64::s3transfer==0.2.1=py36_0\n",
      "  - defaults/linux-64::nbconvert==5.6.1=py36_0\n",
      "  - defaults/noarch::jupyterlab_server==1.0.6=py_0\n",
      "  - defaults/noarch::botocore==1.12.189=py_0\n",
      "  - defaults/linux-64::jupyter==1.0.0=py36_7\n",
      "  - defaults/linux-64::nb_conda_kernels==2.2.4=py36_0\n",
      "  - defaults/linux-64::spyder==4.0.1=py36_0\n",
      "  - defaults/linux-64::requests==2.22.0=py36_1\n",
      "  - defaults/noarch::ipywidgets==7.5.1=py_0\n",
      "  - defaults/linux-64::widgetsnbextension==3.5.1=py36_0\n",
      "  - defaults/noarch::s3fs==0.4.2=py_0\n",
      "  - defaults/linux-64::notebook==6.0.3=py36_0\n",
      "  - defaults/linux-64::anaconda-client==1.7.2=py36_0\n",
      "done\n",
      "\n",
      "\n",
      "==> WARNING: A newer version of conda exists. <==\n",
      "  current version: 4.8.4\n",
      "  latest version: 4.9.2\n",
      "\n",
      "Please update conda by running\n",
      "\n",
      "    $ conda update -n base conda\n",
      "\n",
      "\n",
      "\n",
      "## Package Plan ##\n",
      "\n",
      "  environment location: /home/ec2-user/anaconda3/envs/amazonei_mxnet_p36\n",
      "\n",
      "  added / updated specs:\n",
      "    - fbprophet\n",
      "\n",
      "\n",
      "The following packages will be downloaded:\n",
      "\n",
      "    package                    |            build\n",
      "    ---------------------------|-----------------\n",
      "    astroid-2.5                |   py36h5fab9bb_1         297 KB  conda-forge\n",
      "    bleach-3.3.0               |     pyh44b312d_0         111 KB  conda-forge\n",
      "    brotlipy-0.7.0             |py36he6145b8_1001         347 KB  conda-forge\n",
      "    convertdate-2.3.1          |     pyhd8ed1ab_0          36 KB  conda-forge\n",
      "    docutils-0.16              |   py36h5fab9bb_3         738 KB  conda-forge\n",
      "    ephem-3.7.7.1              |   py36h8c4c3a4_1         761 KB  conda-forge\n",
      "    fbprophet-0.6              |   py36he1b5a44_0         642 KB  conda-forge\n",
      "    hijri-converter-2.1.1      |     pyhd8ed1ab_0          17 KB  conda-forge\n",
      "    holidays-0.10.5.2          |     pyhd8ed1ab_0          65 KB  conda-forge\n",
      "    korean_lunar_calendar-0.2.1|     pyh9f0ad1d_0          10 KB  conda-forge\n",
      "    lunarcalendar-0.0.9        |             py_0          20 KB  conda-forge\n",
      "    pylint-2.6.0               |   py36h5fab9bb_1         452 KB  conda-forge\n",
      "    pymeeus-0.4.0              |     pyhd8ed1ab_0         517 KB  conda-forge\n",
      "    pystan-2.17.1.0            |py36hf2d7682_1004        14.0 MB  conda-forge\n",
      "    toml-0.10.2                |     pyhd8ed1ab_0          18 KB  conda-forge\n",
      "    urllib3-1.25.11            |             py_0          93 KB  conda-forge\n",
      "    ------------------------------------------------------------\n",
      "                                           Total:        18.0 MB\n",
      "\n",
      "The following NEW packages will be INSTALLED:\n",
      "\n",
      "  astroid            conda-forge/linux-64::astroid-2.5-py36h5fab9bb_1\n",
      "  binutils_impl_lin~ conda-forge/linux-64::binutils_impl_linux-64-2.33.1-he1b5a44_7\n",
      "  binutils_linux-64  conda-forge/linux-64::binutils_linux-64-2.33.1-h9595d00_17\n",
      "  bleach             conda-forge/noarch::bleach-3.3.0-pyh44b312d_0\n",
      "  brotlipy           conda-forge/linux-64::brotlipy-0.7.0-py36he6145b8_1001\n",
      "  convertdate        conda-forge/noarch::convertdate-2.3.1-pyhd8ed1ab_0\n",
      "  docutils           conda-forge/linux-64::docutils-0.16-py36h5fab9bb_3\n",
      "  ephem              conda-forge/linux-64::ephem-3.7.7.1-py36h8c4c3a4_1\n",
      "  fbprophet          conda-forge/linux-64::fbprophet-0.6-py36he1b5a44_0\n",
      "  gcc_impl_linux-64  pkgs/main/linux-64::gcc_impl_linux-64-7.3.0-habb00fd_1\n",
      "  gcc_linux-64       conda-forge/linux-64::gcc_linux-64-7.3.0-h553295d_17\n",
      "  gxx_impl_linux-64  pkgs/main/linux-64::gxx_impl_linux-64-7.3.0-hdf63c60_1\n",
      "  gxx_linux-64       conda-forge/linux-64::gxx_linux-64-7.3.0-h553295d_17\n",
      "  hijri-converter    conda-forge/noarch::hijri-converter-2.1.1-pyhd8ed1ab_0\n",
      "  holidays           conda-forge/noarch::holidays-0.10.5.2-pyhd8ed1ab_0\n",
      "  korean_lunar_cale~ conda-forge/noarch::korean_lunar_calendar-0.2.1-pyh9f0ad1d_0\n",
      "  lunarcalendar      conda-forge/noarch::lunarcalendar-0.0.9-py_0\n",
      "  pylint             conda-forge/linux-64::pylint-2.6.0-py36h5fab9bb_1\n",
      "  pymeeus            conda-forge/noarch::pymeeus-0.4.0-pyhd8ed1ab_0\n",
      "  pystan             conda-forge/linux-64::pystan-2.17.1.0-py36hf2d7682_1004\n",
      "  toml               conda-forge/noarch::toml-0.10.2-pyhd8ed1ab_0\n",
      "  urllib3            conda-forge/noarch::urllib3-1.25.11-py_0\n",
      "\n",
      "\n",
      "\n",
      "Downloading and Extracting Packages\n",
      "pylint-2.6.0         | 452 KB    | ##################################### | 100% \n",
      "holidays-0.10.5.2    | 65 KB     | ##################################### | 100% \n",
      "bleach-3.3.0         | 111 KB    | ##################################### | 100% \n",
      "urllib3-1.25.11      | 93 KB     | ##################################### | 100% \n",
      "pymeeus-0.4.0        | 517 KB    | ##################################### | 100% \n",
      "lunarcalendar-0.0.9  | 20 KB     | ##################################### | 100% \n",
      "fbprophet-0.6        | 642 KB    | ##################################### | 100% \n",
      "astroid-2.5          | 297 KB    | ##################################### | 100% \n",
      "pystan-2.17.1.0      | 14.0 MB   | ##################################### | 100% \n",
      "toml-0.10.2          | 18 KB     | ##################################### | 100% \n",
      "convertdate-2.3.1    | 36 KB     | ##################################### | 100% \n",
      "ephem-3.7.7.1        | 761 KB    | ##################################### | 100% \n",
      "docutils-0.16        | 738 KB    | ##################################### | 100% \n",
      "korean_lunar_calenda | 10 KB     | ##################################### | 100% \n",
      "brotlipy-0.7.0       | 347 KB    | ##################################### | 100% \n",
      "hijri-converter-2.1. | 17 KB     | ##################################### | 100% \n",
      "Preparing transaction: done\n",
      "Verifying transaction: done\n",
      "Executing transaction: done\n"
     ]
    }
   ],
   "source": [
    "!conda install -c conda-forge fbprophet --yes"
   ]
  },
  {
   "cell_type": "code",
   "execution_count": 7,
   "metadata": {},
   "outputs": [
    {
     "name": "stdout",
     "output_type": "stream",
     "text": [
      "Requirement already satisfied: fbprophet in /home/ec2-user/anaconda3/envs/amazonei_mxnet_p36/lib/python3.6/site-packages (0.6)\n",
      "Collecting fbprophet\n",
      "  Downloading fbprophet-0.7.1.tar.gz (64 kB)\n",
      "\u001b[K     |████████████████████████████████| 64 kB 440 kB/s eta 0:00:011\n",
      "\u001b[?25hRequirement already satisfied: Cython>=0.22 in /home/ec2-user/anaconda3/envs/amazonei_mxnet_p36/lib/python3.6/site-packages (from fbprophet) (0.29.15)\n",
      "Requirement already satisfied: pystan>=2.14 in /home/ec2-user/anaconda3/envs/amazonei_mxnet_p36/lib/python3.6/site-packages (from fbprophet) (2.19.1.1)\n",
      "Requirement already satisfied: numpy>=1.15.4 in /home/ec2-user/anaconda3/envs/amazonei_mxnet_p36/lib/python3.6/site-packages (from fbprophet) (1.19.5)\n",
      "Requirement already satisfied: matplotlib>=2.0.0 in /home/ec2-user/anaconda3/envs/amazonei_mxnet_p36/lib/python3.6/site-packages (from fbprophet) (3.1.3)\n",
      "Requirement already satisfied: LunarCalendar>=0.0.9 in /home/ec2-user/anaconda3/envs/amazonei_mxnet_p36/lib/python3.6/site-packages (from fbprophet) (0.0.9)\n",
      "Requirement already satisfied: convertdate>=2.1.2 in /home/ec2-user/anaconda3/envs/amazonei_mxnet_p36/lib/python3.6/site-packages (from fbprophet) (2.3.1)\n",
      "Requirement already satisfied: holidays>=0.10.2 in /home/ec2-user/anaconda3/envs/amazonei_mxnet_p36/lib/python3.6/site-packages (from fbprophet) (0.10.5.2)\n",
      "Requirement already satisfied: python-dateutil>=2.8.0 in /home/ec2-user/anaconda3/envs/amazonei_mxnet_p36/lib/python3.6/site-packages (from fbprophet) (2.8.1)\n",
      "Requirement already satisfied: tqdm>=4.36.1 in /home/ec2-user/anaconda3/envs/amazonei_mxnet_p36/lib/python3.6/site-packages (from fbprophet) (4.42.1)\n",
      "Collecting cmdstanpy==0.9.5\n",
      "  Downloading cmdstanpy-0.9.5-py3-none-any.whl (37 kB)\n",
      "Requirement already satisfied: pytz>=2014.10 in /home/ec2-user/anaconda3/envs/amazonei_mxnet_p36/lib/python3.6/site-packages (from convertdate>=2.1.2->fbprophet) (2019.3)\n",
      "Requirement already satisfied: pymeeus!=0.3.8,<=1,>=0.3.6 in /home/ec2-user/anaconda3/envs/amazonei_mxnet_p36/lib/python3.6/site-packages (from convertdate>=2.1.2->fbprophet) (0.4.0)\n",
      "Requirement already satisfied: korean-lunar-calendar in /home/ec2-user/anaconda3/envs/amazonei_mxnet_p36/lib/python3.6/site-packages (from holidays>=0.10.2->fbprophet) (0.2.1)\n",
      "Requirement already satisfied: six in /home/ec2-user/anaconda3/envs/amazonei_mxnet_p36/lib/python3.6/site-packages (from holidays>=0.10.2->fbprophet) (1.15.0)\n",
      "Requirement already satisfied: hijri-converter in /home/ec2-user/anaconda3/envs/amazonei_mxnet_p36/lib/python3.6/site-packages (from holidays>=0.10.2->fbprophet) (2.1.1)\n",
      "Requirement already satisfied: ephem>=3.7.5.3 in /home/ec2-user/anaconda3/envs/amazonei_mxnet_p36/lib/python3.6/site-packages (from LunarCalendar>=0.0.9->fbprophet) (3.7.7.1)\n",
      "Requirement already satisfied: cycler>=0.10 in /home/ec2-user/anaconda3/envs/amazonei_mxnet_p36/lib/python3.6/site-packages (from matplotlib>=2.0.0->fbprophet) (0.10.0)\n",
      "Requirement already satisfied: pyparsing!=2.0.4,!=2.1.2,!=2.1.6,>=2.0.1 in /home/ec2-user/anaconda3/envs/amazonei_mxnet_p36/lib/python3.6/site-packages (from matplotlib>=2.0.0->fbprophet) (2.4.7)\n",
      "Requirement already satisfied: kiwisolver>=1.0.1 in /home/ec2-user/anaconda3/envs/amazonei_mxnet_p36/lib/python3.6/site-packages (from matplotlib>=2.0.0->fbprophet) (1.1.0)\n",
      "Requirement already satisfied: setuptools in /home/ec2-user/anaconda3/envs/amazonei_mxnet_p36/lib/python3.6/site-packages (from kiwisolver>=1.0.1->matplotlib>=2.0.0->fbprophet) (45.2.0.post20200210)\n",
      "Collecting pandas>=1.0.4\n",
      "  Downloading pandas-1.1.5-cp36-cp36m-manylinux1_x86_64.whl (9.5 MB)\n",
      "\u001b[K     |████████████████████████████████| 9.5 MB 44.1 MB/s eta 0:00:01     |███████▏                        | 2.1 MB 44.1 MB/s eta 0:00:0101:00:01��████████████████████████▏     | 7.8 MB 44.1 MB/s eta 0:00:01�████████████████▏  | 8.7 MB 44.1 MB/s eta 0:00:01�███| 9.5 MB 44.1 MB/s eta 0:00:01\n",
      "\u001b[?25hCollecting setuptools-git>=1.2\n",
      "  Downloading setuptools_git-1.2-py2.py3-none-any.whl (10 kB)\n",
      "Building wheels for collected packages: fbprophet\n",
      "  Building wheel for fbprophet (setup.py) ... \u001b[?25ldone\n",
      "\u001b[?25h  Created wheel for fbprophet: filename=fbprophet-0.7.1-py3-none-any.whl size=5333467 sha256=e2f4fe61bdfa43d4516e5fab74158377c7a965f74337c690181e1aae8f166610\n",
      "  Stored in directory: /home/ec2-user/.cache/pip/wheels/b6/73/52/ce81340af75aecc56259680433bcfcfb5e941ccd0e28f6e9b0\n",
      "Successfully built fbprophet\n",
      "Installing collected packages: pandas, setuptools-git, cmdstanpy, fbprophet\n",
      "  Attempting uninstall: pandas\n",
      "    Found existing installation: pandas 1.0.1\n",
      "    Uninstalling pandas-1.0.1:\n",
      "      Successfully uninstalled pandas-1.0.1\n",
      "  Attempting uninstall: fbprophet\n",
      "    Found existing installation: fbprophet 0.6\n",
      "    Uninstalling fbprophet-0.6:\n",
      "      Successfully uninstalled fbprophet-0.6\n",
      "Successfully installed cmdstanpy-0.9.5 fbprophet-0.7.1 pandas-1.1.5 setuptools-git-1.2\n",
      "\u001b[33mWARNING: You are using pip version 20.3.3; however, version 21.0.1 is available.\n",
      "You should consider upgrading via the '/home/ec2-user/anaconda3/envs/amazonei_mxnet_p36/bin/python -m pip install --upgrade pip' command.\u001b[0m\n"
     ]
    }
   ],
   "source": [
    "!pip install --upgrade fbprophet"
   ]
  },
  {
   "cell_type": "code",
   "execution_count": 8,
   "metadata": {},
   "outputs": [],
   "source": [
    "####Importing all needed libraries\n",
    "import fbprophet\n",
    "import statsmodels.graphics.tsaplots as sgt\n",
    "import statsmodels.tsa.stattools as sts\n",
    "from statsmodels.tsa.seasonal import seasonal_decompose\n",
    "from statsmodels.tsa.arima_model import ARMA\n",
    "\n",
    "import os\n",
    "import math\n",
    "import numpy as np\n",
    "import pandas_datareader as web\n",
    "import pandas as pd\n",
    "from sklearn.preprocessing import MinMaxScaler\n",
    "from sklearn.model_selection import train_test_split\n",
    "import matplotlib.pyplot as plt\n",
    "from sklearn.metrics import mean_squared_error\n",
    "from fbprophet.diagnostics import performance_metrics\n",
    "from fbprophet.diagnostics import cross_validation\n"
   ]
  },
  {
   "cell_type": "code",
   "execution_count": null,
   "metadata": {},
   "outputs": [],
   "source": []
  },
  {
   "cell_type": "markdown",
   "metadata": {},
   "source": [
    "**1. Data Aquisition**\n",
    "\n",
    "Using Pandas Datareader, stock market prices of top-known firms could be downloaded from Yahoo Finance"
   ]
  },
  {
   "cell_type": "code",
   "execution_count": 9,
   "metadata": {},
   "outputs": [],
   "source": [
    "start_date = '2008.01.01 00:00:00'\n",
    "end_date = '2020.12.31 00:00:00'\n",
    "freq = 'D'\n",
    "#df_dates = pd.date_range(start_date, end_date) \n",
    "df_ORCL = web.DataReader('ORCL', data_source=\"yahoo\", start=start_date, end=end_date)"
   ]
  },
  {
   "cell_type": "code",
   "execution_count": 10,
   "metadata": {},
   "outputs": [
    {
     "data": {
      "text/html": [
       "<div>\n",
       "<style scoped>\n",
       "    .dataframe tbody tr th:only-of-type {\n",
       "        vertical-align: middle;\n",
       "    }\n",
       "\n",
       "    .dataframe tbody tr th {\n",
       "        vertical-align: top;\n",
       "    }\n",
       "\n",
       "    .dataframe thead th {\n",
       "        text-align: right;\n",
       "    }\n",
       "</style>\n",
       "<table border=\"1\" class=\"dataframe\">\n",
       "  <thead>\n",
       "    <tr style=\"text-align: right;\">\n",
       "      <th></th>\n",
       "      <th>High</th>\n",
       "      <th>Low</th>\n",
       "      <th>Open</th>\n",
       "      <th>Close</th>\n",
       "      <th>Volume</th>\n",
       "      <th>Adj Close</th>\n",
       "    </tr>\n",
       "    <tr>\n",
       "      <th>Date</th>\n",
       "      <th></th>\n",
       "      <th></th>\n",
       "      <th></th>\n",
       "      <th></th>\n",
       "      <th></th>\n",
       "      <th></th>\n",
       "    </tr>\n",
       "  </thead>\n",
       "  <tbody>\n",
       "    <tr>\n",
       "      <th>2008-01-02</th>\n",
       "      <td>22.820000</td>\n",
       "      <td>22.379999</td>\n",
       "      <td>22.549999</td>\n",
       "      <td>22.490000</td>\n",
       "      <td>42775700.0</td>\n",
       "      <td>19.255461</td>\n",
       "    </tr>\n",
       "    <tr>\n",
       "      <th>2008-01-03</th>\n",
       "      <td>23.110001</td>\n",
       "      <td>22.430000</td>\n",
       "      <td>22.430000</td>\n",
       "      <td>23.110001</td>\n",
       "      <td>42045400.0</td>\n",
       "      <td>19.786291</td>\n",
       "    </tr>\n",
       "    <tr>\n",
       "      <th>2008-01-04</th>\n",
       "      <td>22.879999</td>\n",
       "      <td>21.790001</td>\n",
       "      <td>22.770000</td>\n",
       "      <td>22.030001</td>\n",
       "      <td>44738600.0</td>\n",
       "      <td>18.861618</td>\n",
       "    </tr>\n",
       "    <tr>\n",
       "      <th>2008-01-07</th>\n",
       "      <td>22.480000</td>\n",
       "      <td>21.790001</td>\n",
       "      <td>21.959999</td>\n",
       "      <td>22.250000</td>\n",
       "      <td>40045600.0</td>\n",
       "      <td>19.049978</td>\n",
       "    </tr>\n",
       "    <tr>\n",
       "      <th>2008-01-08</th>\n",
       "      <td>22.320000</td>\n",
       "      <td>21.139999</td>\n",
       "      <td>22.240000</td>\n",
       "      <td>21.150000</td>\n",
       "      <td>43551600.0</td>\n",
       "      <td>18.108183</td>\n",
       "    </tr>\n",
       "    <tr>\n",
       "      <th>2008-01-09</th>\n",
       "      <td>21.690001</td>\n",
       "      <td>21.150000</td>\n",
       "      <td>21.340000</td>\n",
       "      <td>21.610001</td>\n",
       "      <td>47973000.0</td>\n",
       "      <td>18.502026</td>\n",
       "    </tr>\n",
       "    <tr>\n",
       "      <th>2008-01-10</th>\n",
       "      <td>21.799999</td>\n",
       "      <td>21.070000</td>\n",
       "      <td>21.459999</td>\n",
       "      <td>21.680000</td>\n",
       "      <td>42107400.0</td>\n",
       "      <td>18.561954</td>\n",
       "    </tr>\n",
       "    <tr>\n",
       "      <th>2008-01-11</th>\n",
       "      <td>21.690001</td>\n",
       "      <td>21.059999</td>\n",
       "      <td>21.530001</td>\n",
       "      <td>21.100000</td>\n",
       "      <td>46251400.0</td>\n",
       "      <td>18.065376</td>\n",
       "    </tr>\n",
       "    <tr>\n",
       "      <th>2008-01-14</th>\n",
       "      <td>22.120001</td>\n",
       "      <td>21.100000</td>\n",
       "      <td>21.440001</td>\n",
       "      <td>22.059999</td>\n",
       "      <td>48826100.0</td>\n",
       "      <td>18.887299</td>\n",
       "    </tr>\n",
       "    <tr>\n",
       "      <th>2008-01-15</th>\n",
       "      <td>22.049999</td>\n",
       "      <td>21.299999</td>\n",
       "      <td>21.760000</td>\n",
       "      <td>21.309999</td>\n",
       "      <td>39579500.0</td>\n",
       "      <td>18.245174</td>\n",
       "    </tr>\n",
       "  </tbody>\n",
       "</table>\n",
       "</div>"
      ],
      "text/plain": [
       "                 High        Low       Open      Close      Volume  Adj Close\n",
       "Date                                                                         \n",
       "2008-01-02  22.820000  22.379999  22.549999  22.490000  42775700.0  19.255461\n",
       "2008-01-03  23.110001  22.430000  22.430000  23.110001  42045400.0  19.786291\n",
       "2008-01-04  22.879999  21.790001  22.770000  22.030001  44738600.0  18.861618\n",
       "2008-01-07  22.480000  21.790001  21.959999  22.250000  40045600.0  19.049978\n",
       "2008-01-08  22.320000  21.139999  22.240000  21.150000  43551600.0  18.108183\n",
       "2008-01-09  21.690001  21.150000  21.340000  21.610001  47973000.0  18.502026\n",
       "2008-01-10  21.799999  21.070000  21.459999  21.680000  42107400.0  18.561954\n",
       "2008-01-11  21.690001  21.059999  21.530001  21.100000  46251400.0  18.065376\n",
       "2008-01-14  22.120001  21.100000  21.440001  22.059999  48826100.0  18.887299\n",
       "2008-01-15  22.049999  21.299999  21.760000  21.309999  39579500.0  18.245174"
      ]
     },
     "execution_count": 10,
     "metadata": {},
     "output_type": "execute_result"
    }
   ],
   "source": [
    "df_ORCL.head(10)"
   ]
  },
  {
   "cell_type": "code",
   "execution_count": 11,
   "metadata": {},
   "outputs": [],
   "source": [
    "df_ORCL.to_excel('df_orcl.xlsx')"
   ]
  },
  {
   "cell_type": "markdown",
   "metadata": {},
   "source": [
    "**Algorithms to be used**\n",
    "\n",
    "I applied two different algorithms; the **FbProphet** and AWS in-built **XGBoost** algorithms.\n",
    "\n",
    ">**FbProphet:**\n",
    "Prophet is a procedure for forecasting time series data based on an additive model where non-linear trends are fit with yearly, weekly, and daily seasonality, plus holiday effects. It works best with time series that have strong seasonal effects and several seasons of historical data. Prophet is robust to missing data and shifts in the trend, and typically handles outliers well. https://facebook.github.io/prophet/#\n",
    "\n",
    ">**XGBoost:**\n",
    "The XGBoost (eXtreme Gradient Boosting) is a popular and efficient open-source implementation of the gradient boosted trees algorithm. Gradient boosting is a supervised learning algorithm that attempts to accurately predict a target variable by combining an ensemble of estimates from a set of simpler and weaker models. The XGBoost algorithm performs well in machine learning competitions because of its robust handling of a variety of data types, relationships, distributions, and the variety of hyperparameters that you can fine-tune. You can use XGBoost for regression, classification (binary and multiclass), and ranking problems. https://docs.aws.amazon.com/sagemaker/latest/dg/xgboost.html\n"
   ]
  },
  {
   "cell_type": "code",
   "execution_count": null,
   "metadata": {},
   "outputs": [],
   "source": []
  },
  {
   "cell_type": "markdown",
   "metadata": {},
   "source": [
    "**fbprohet:**\n",
    "The fbprophet is the first algorithm to be applied. Fbprohet is specifally for time series forecasting, and the data should be in pandas dataframe format. The fbprophet just takes two columns for its prediction, and these columns have to be also named as **'ds'** and **'y'**, for date and data inputs respectively."
   ]
  },
  {
   "cell_type": "code",
   "execution_count": 12,
   "metadata": {},
   "outputs": [],
   "source": [
    "from fbprophet import Prophet"
   ]
  },
  {
   "cell_type": "code",
   "execution_count": 13,
   "metadata": {},
   "outputs": [],
   "source": [
    "##The column needed is the 'Adj Close' column\n",
    "df = df_ORCL.drop(['High', 'Low', 'Open', 'Close', 'Volume'], axis=1)"
   ]
  },
  {
   "cell_type": "code",
   "execution_count": 14,
   "metadata": {},
   "outputs": [
    {
     "data": {
      "text/plain": [
       "<matplotlib.axes._subplots.AxesSubplot at 0x7fec132942e8>"
      ]
     },
     "execution_count": 14,
     "metadata": {},
     "output_type": "execute_result"
    },
    {
     "data": {
      "image/png": "[encoded data removed]",
      "text/plain": [
       "<Figure size 1440x360 with 1 Axes>"
      ]
     },
     "metadata": {
      "needs_background": "light"
     },
     "output_type": "display_data"
    }
   ],
   "source": [
    "##visualizing the data\n",
    "\n",
    "df.plot(figsize=(20,5))"
   ]
  },
  {
   "cell_type": "code",
   "execution_count": 15,
   "metadata": {},
   "outputs": [],
   "source": [
    "###checking for WhiteNoise\n",
    "df_wn = df.copy()\n",
    "wn = np.random.normal(loc = df_wn.mean(), scale=df_wn.std(), size=len(df_wn))\n",
    "df_wn['wn'] = wn"
   ]
  },
  {
   "cell_type": "code",
   "execution_count": 16,
   "metadata": {},
   "outputs": [
    {
     "data": {
      "image/png": "[encoded data removed]",
      "text/plain": [
       "<Figure size 1440x360 with 1 Axes>"
      ]
     },
     "metadata": {
      "needs_background": "light"
     },
     "output_type": "display_data"
    }
   ],
   "source": [
    "df_wn.wn.plot(figsize=(20, 5))\n",
    "plt.show()"
   ]
  },
  {
   "cell_type": "code",
   "execution_count": null,
   "metadata": {},
   "outputs": [],
   "source": []
  },
  {
   "cell_type": "code",
   "execution_count": 17,
   "metadata": {},
   "outputs": [],
   "source": [
    "df_fbp = df.copy()"
   ]
  },
  {
   "cell_type": "code",
   "execution_count": 18,
   "metadata": {},
   "outputs": [
    {
     "data": {
      "text/html": [
       "<div>\n",
       "<style scoped>\n",
       "    .dataframe tbody tr th:only-of-type {\n",
       "        vertical-align: middle;\n",
       "    }\n",
       "\n",
       "    .dataframe tbody tr th {\n",
       "        vertical-align: top;\n",
       "    }\n",
       "\n",
       "    .dataframe thead th {\n",
       "        text-align: right;\n",
       "    }\n",
       "</style>\n",
       "<table border=\"1\" class=\"dataframe\">\n",
       "  <thead>\n",
       "    <tr style=\"text-align: right;\">\n",
       "      <th></th>\n",
       "      <th>Adj Close</th>\n",
       "    </tr>\n",
       "    <tr>\n",
       "      <th>Date</th>\n",
       "      <th></th>\n",
       "    </tr>\n",
       "  </thead>\n",
       "  <tbody>\n",
       "    <tr>\n",
       "      <th>2008-01-02</th>\n",
       "      <td>19.255461</td>\n",
       "    </tr>\n",
       "    <tr>\n",
       "      <th>2008-01-03</th>\n",
       "      <td>19.786291</td>\n",
       "    </tr>\n",
       "    <tr>\n",
       "      <th>2008-01-04</th>\n",
       "      <td>18.861618</td>\n",
       "    </tr>\n",
       "    <tr>\n",
       "      <th>2008-01-07</th>\n",
       "      <td>19.049978</td>\n",
       "    </tr>\n",
       "    <tr>\n",
       "      <th>2008-01-08</th>\n",
       "      <td>18.108183</td>\n",
       "    </tr>\n",
       "  </tbody>\n",
       "</table>\n",
       "</div>"
      ],
      "text/plain": [
       "            Adj Close\n",
       "Date                 \n",
       "2008-01-02  19.255461\n",
       "2008-01-03  19.786291\n",
       "2008-01-04  18.861618\n",
       "2008-01-07  19.049978\n",
       "2008-01-08  18.108183"
      ]
     },
     "execution_count": 18,
     "metadata": {},
     "output_type": "execute_result"
    }
   ],
   "source": [
    "df_fbp.head()"
   ]
  },
  {
   "cell_type": "code",
   "execution_count": 19,
   "metadata": {},
   "outputs": [
    {
     "data": {
      "text/plain": [
       "Adj Close    0\n",
       "dtype: int64"
      ]
     },
     "execution_count": 19,
     "metadata": {},
     "output_type": "execute_result"
    }
   ],
   "source": [
    "##checking for null values\n",
    "df_fbp.isna().sum()"
   ]
  },
  {
   "cell_type": "code",
   "execution_count": 20,
   "metadata": {},
   "outputs": [
    {
     "data": {
      "text/plain": [
       "Text(0.5, 1.0, 'Adj Close')"
      ]
     },
     "execution_count": 20,
     "metadata": {},
     "output_type": "execute_result"
    },
    {
     "data": {
      "image/png": "[encoded data removed]",
      "text/plain": [
       "<Figure size 1440x360 with 1 Axes>"
      ]
     },
     "metadata": {
      "needs_background": "light"
     },
     "output_type": "display_data"
    }
   ],
   "source": [
    "##visualizing the data\n",
    "df_fbp.plot(figsize=(20,5))\n",
    "plt.xlabel(\"Year\")\n",
    "plt.ylabel(\"Adj Close price\")\n",
    "plt.title(\"Adj Close\")\n"
   ]
  },
  {
   "cell_type": "code",
   "execution_count": 21,
   "metadata": {},
   "outputs": [],
   "source": [
    "##rename the input column as 'y'\n",
    "df_fbp = df_fbp.rename(columns={'Adj Close': 'y'})"
   ]
  },
  {
   "cell_type": "code",
   "execution_count": 22,
   "metadata": {},
   "outputs": [],
   "source": [
    "##create a new column for the date and name it 'ds'\n",
    "\n",
    "df_fbp['ds'] = df_fbp.index.date"
   ]
  },
  {
   "cell_type": "code",
   "execution_count": 23,
   "metadata": {},
   "outputs": [
    {
     "data": {
      "text/html": [
       "<div>\n",
       "<style scoped>\n",
       "    .dataframe tbody tr th:only-of-type {\n",
       "        vertical-align: middle;\n",
       "    }\n",
       "\n",
       "    .dataframe tbody tr th {\n",
       "        vertical-align: top;\n",
       "    }\n",
       "\n",
       "    .dataframe thead th {\n",
       "        text-align: right;\n",
       "    }\n",
       "</style>\n",
       "<table border=\"1\" class=\"dataframe\">\n",
       "  <thead>\n",
       "    <tr style=\"text-align: right;\">\n",
       "      <th></th>\n",
       "      <th>y</th>\n",
       "      <th>ds</th>\n",
       "    </tr>\n",
       "    <tr>\n",
       "      <th>Date</th>\n",
       "      <th></th>\n",
       "      <th></th>\n",
       "    </tr>\n",
       "  </thead>\n",
       "  <tbody>\n",
       "    <tr>\n",
       "      <th>2008-01-02</th>\n",
       "      <td>19.255461</td>\n",
       "      <td>2008-01-02</td>\n",
       "    </tr>\n",
       "    <tr>\n",
       "      <th>2008-01-03</th>\n",
       "      <td>19.786291</td>\n",
       "      <td>2008-01-03</td>\n",
       "    </tr>\n",
       "    <tr>\n",
       "      <th>2008-01-04</th>\n",
       "      <td>18.861618</td>\n",
       "      <td>2008-01-04</td>\n",
       "    </tr>\n",
       "    <tr>\n",
       "      <th>2008-01-07</th>\n",
       "      <td>19.049978</td>\n",
       "      <td>2008-01-07</td>\n",
       "    </tr>\n",
       "    <tr>\n",
       "      <th>2008-01-08</th>\n",
       "      <td>18.108183</td>\n",
       "      <td>2008-01-08</td>\n",
       "    </tr>\n",
       "  </tbody>\n",
       "</table>\n",
       "</div>"
      ],
      "text/plain": [
       "                    y          ds\n",
       "Date                             \n",
       "2008-01-02  19.255461  2008-01-02\n",
       "2008-01-03  19.786291  2008-01-03\n",
       "2008-01-04  18.861618  2008-01-04\n",
       "2008-01-07  19.049978  2008-01-07\n",
       "2008-01-08  18.108183  2008-01-08"
      ]
     },
     "execution_count": 23,
     "metadata": {},
     "output_type": "execute_result"
    }
   ],
   "source": [
    "df_fbp.head()"
   ]
  },
  {
   "cell_type": "code",
   "execution_count": null,
   "metadata": {},
   "outputs": [],
   "source": []
  },
  {
   "cell_type": "code",
   "execution_count": 24,
   "metadata": {},
   "outputs": [],
   "source": [
    "##instantiate a Prophet object\n",
    "model = Prophet()"
   ]
  },
  {
   "cell_type": "code",
   "execution_count": 25,
   "metadata": {},
   "outputs": [],
   "source": [
    "model.component_modes   ##params used"
   ]
  },
  {
   "cell_type": "code",
   "execution_count": 26,
   "metadata": {},
   "outputs": [
    {
     "name": "stderr",
     "output_type": "stream",
     "text": [
      "INFO:fbprophet:Disabling daily seasonality. Run prophet with daily_seasonality=True to override this.\n"
     ]
    },
    {
     "data": {
      "text/plain": [
       "<fbprophet.forecaster.Prophet at 0x7fec133c3860>"
      ]
     },
     "execution_count": 26,
     "metadata": {},
     "output_type": "execute_result"
    }
   ],
   "source": [
    "##training the model\n",
    "model.fit(df_fbp)"
   ]
  },
  {
   "cell_type": "code",
   "execution_count": 27,
   "metadata": {},
   "outputs": [],
   "source": [
    "##Create 365 future dates\n",
    "df_future = model.make_future_dataframe(periods=365)"
   ]
  },
  {
   "cell_type": "code",
   "execution_count": 28,
   "metadata": {},
   "outputs": [
    {
     "data": {
      "text/html": [
       "<div>\n",
       "<style scoped>\n",
       "    .dataframe tbody tr th:only-of-type {\n",
       "        vertical-align: middle;\n",
       "    }\n",
       "\n",
       "    .dataframe tbody tr th {\n",
       "        vertical-align: top;\n",
       "    }\n",
       "\n",
       "    .dataframe thead th {\n",
       "        text-align: right;\n",
       "    }\n",
       "</style>\n",
       "<table border=\"1\" class=\"dataframe\">\n",
       "  <thead>\n",
       "    <tr style=\"text-align: right;\">\n",
       "      <th></th>\n",
       "      <th>ds</th>\n",
       "      <th>trend</th>\n",
       "      <th>yhat_lower</th>\n",
       "      <th>yhat_upper</th>\n",
       "      <th>trend_lower</th>\n",
       "      <th>trend_upper</th>\n",
       "      <th>additive_terms</th>\n",
       "      <th>additive_terms_lower</th>\n",
       "      <th>additive_terms_upper</th>\n",
       "      <th>weekly</th>\n",
       "      <th>weekly_lower</th>\n",
       "      <th>weekly_upper</th>\n",
       "      <th>yearly</th>\n",
       "      <th>yearly_lower</th>\n",
       "      <th>yearly_upper</th>\n",
       "      <th>multiplicative_terms</th>\n",
       "      <th>multiplicative_terms_lower</th>\n",
       "      <th>multiplicative_terms_upper</th>\n",
       "      <th>yhat</th>\n",
       "    </tr>\n",
       "  </thead>\n",
       "  <tbody>\n",
       "    <tr>\n",
       "      <th>0</th>\n",
       "      <td>2008-01-02</td>\n",
       "      <td>18.356760</td>\n",
       "      <td>15.633974</td>\n",
       "      <td>20.464484</td>\n",
       "      <td>18.356760</td>\n",
       "      <td>18.356760</td>\n",
       "      <td>-0.366345</td>\n",
       "      <td>-0.366345</td>\n",
       "      <td>-0.366345</td>\n",
       "      <td>-0.144956</td>\n",
       "      <td>-0.144956</td>\n",
       "      <td>-0.144956</td>\n",
       "      <td>-0.221390</td>\n",
       "      <td>-0.221390</td>\n",
       "      <td>-0.221390</td>\n",
       "      <td>0.0</td>\n",
       "      <td>0.0</td>\n",
       "      <td>0.0</td>\n",
       "      <td>17.990415</td>\n",
       "    </tr>\n",
       "    <tr>\n",
       "      <th>1</th>\n",
       "      <td>2008-01-03</td>\n",
       "      <td>18.350545</td>\n",
       "      <td>15.584719</td>\n",
       "      <td>20.677830</td>\n",
       "      <td>18.350545</td>\n",
       "      <td>18.350545</td>\n",
       "      <td>-0.390295</td>\n",
       "      <td>-0.390295</td>\n",
       "      <td>-0.390295</td>\n",
       "      <td>-0.165654</td>\n",
       "      <td>-0.165654</td>\n",
       "      <td>-0.165654</td>\n",
       "      <td>-0.224641</td>\n",
       "      <td>-0.224641</td>\n",
       "      <td>-0.224641</td>\n",
       "      <td>0.0</td>\n",
       "      <td>0.0</td>\n",
       "      <td>0.0</td>\n",
       "      <td>17.960251</td>\n",
       "    </tr>\n",
       "    <tr>\n",
       "      <th>2</th>\n",
       "      <td>2008-01-04</td>\n",
       "      <td>18.344331</td>\n",
       "      <td>15.360309</td>\n",
       "      <td>20.396535</td>\n",
       "      <td>18.344331</td>\n",
       "      <td>18.344331</td>\n",
       "      <td>-0.395991</td>\n",
       "      <td>-0.395991</td>\n",
       "      <td>-0.395991</td>\n",
       "      <td>-0.169522</td>\n",
       "      <td>-0.169522</td>\n",
       "      <td>-0.169522</td>\n",
       "      <td>-0.226469</td>\n",
       "      <td>-0.226469</td>\n",
       "      <td>-0.226469</td>\n",
       "      <td>0.0</td>\n",
       "      <td>0.0</td>\n",
       "      <td>0.0</td>\n",
       "      <td>17.948340</td>\n",
       "    </tr>\n",
       "    <tr>\n",
       "      <th>3</th>\n",
       "      <td>2008-01-07</td>\n",
       "      <td>18.325686</td>\n",
       "      <td>15.561423</td>\n",
       "      <td>20.433863</td>\n",
       "      <td>18.325686</td>\n",
       "      <td>18.325686</td>\n",
       "      <td>-0.366338</td>\n",
       "      <td>-0.366338</td>\n",
       "      <td>-0.366338</td>\n",
       "      <td>-0.142731</td>\n",
       "      <td>-0.142731</td>\n",
       "      <td>-0.142731</td>\n",
       "      <td>-0.223607</td>\n",
       "      <td>-0.223607</td>\n",
       "      <td>-0.223607</td>\n",
       "      <td>0.0</td>\n",
       "      <td>0.0</td>\n",
       "      <td>0.0</td>\n",
       "      <td>17.959347</td>\n",
       "    </tr>\n",
       "    <tr>\n",
       "      <th>4</th>\n",
       "      <td>2008-01-08</td>\n",
       "      <td>18.319471</td>\n",
       "      <td>15.430505</td>\n",
       "      <td>20.250370</td>\n",
       "      <td>18.319471</td>\n",
       "      <td>18.319471</td>\n",
       "      <td>-0.365816</td>\n",
       "      <td>-0.365816</td>\n",
       "      <td>-0.365816</td>\n",
       "      <td>-0.145702</td>\n",
       "      <td>-0.145702</td>\n",
       "      <td>-0.145702</td>\n",
       "      <td>-0.220114</td>\n",
       "      <td>-0.220114</td>\n",
       "      <td>-0.220114</td>\n",
       "      <td>0.0</td>\n",
       "      <td>0.0</td>\n",
       "      <td>0.0</td>\n",
       "      <td>17.953655</td>\n",
       "    </tr>\n",
       "    <tr>\n",
       "      <th>5</th>\n",
       "      <td>2008-01-09</td>\n",
       "      <td>18.313256</td>\n",
       "      <td>15.418809</td>\n",
       "      <td>20.338259</td>\n",
       "      <td>18.313256</td>\n",
       "      <td>18.313256</td>\n",
       "      <td>-0.360500</td>\n",
       "      <td>-0.360500</td>\n",
       "      <td>-0.360500</td>\n",
       "      <td>-0.144956</td>\n",
       "      <td>-0.144956</td>\n",
       "      <td>-0.144956</td>\n",
       "      <td>-0.215545</td>\n",
       "      <td>-0.215545</td>\n",
       "      <td>-0.215545</td>\n",
       "      <td>0.0</td>\n",
       "      <td>0.0</td>\n",
       "      <td>0.0</td>\n",
       "      <td>17.952755</td>\n",
       "    </tr>\n",
       "    <tr>\n",
       "      <th>6</th>\n",
       "      <td>2008-01-10</td>\n",
       "      <td>18.307041</td>\n",
       "      <td>15.442994</td>\n",
       "      <td>20.478272</td>\n",
       "      <td>18.307041</td>\n",
       "      <td>18.307041</td>\n",
       "      <td>-0.375705</td>\n",
       "      <td>-0.375705</td>\n",
       "      <td>-0.375705</td>\n",
       "      <td>-0.165654</td>\n",
       "      <td>-0.165654</td>\n",
       "      <td>-0.165654</td>\n",
       "      <td>-0.210051</td>\n",
       "      <td>-0.210051</td>\n",
       "      <td>-0.210051</td>\n",
       "      <td>0.0</td>\n",
       "      <td>0.0</td>\n",
       "      <td>0.0</td>\n",
       "      <td>17.931336</td>\n",
       "    </tr>\n",
       "    <tr>\n",
       "      <th>7</th>\n",
       "      <td>2008-01-11</td>\n",
       "      <td>18.300826</td>\n",
       "      <td>15.533346</td>\n",
       "      <td>20.388866</td>\n",
       "      <td>18.300826</td>\n",
       "      <td>18.300826</td>\n",
       "      <td>-0.373321</td>\n",
       "      <td>-0.373321</td>\n",
       "      <td>-0.373321</td>\n",
       "      <td>-0.169522</td>\n",
       "      <td>-0.169522</td>\n",
       "      <td>-0.169522</td>\n",
       "      <td>-0.203799</td>\n",
       "      <td>-0.203799</td>\n",
       "      <td>-0.203799</td>\n",
       "      <td>0.0</td>\n",
       "      <td>0.0</td>\n",
       "      <td>0.0</td>\n",
       "      <td>17.927505</td>\n",
       "    </tr>\n",
       "    <tr>\n",
       "      <th>8</th>\n",
       "      <td>2008-01-14</td>\n",
       "      <td>18.282181</td>\n",
       "      <td>15.454077</td>\n",
       "      <td>20.443486</td>\n",
       "      <td>18.282181</td>\n",
       "      <td>18.282181</td>\n",
       "      <td>-0.324961</td>\n",
       "      <td>-0.324961</td>\n",
       "      <td>-0.324961</td>\n",
       "      <td>-0.142731</td>\n",
       "      <td>-0.142731</td>\n",
       "      <td>-0.142731</td>\n",
       "      <td>-0.182230</td>\n",
       "      <td>-0.182230</td>\n",
       "      <td>-0.182230</td>\n",
       "      <td>0.0</td>\n",
       "      <td>0.0</td>\n",
       "      <td>0.0</td>\n",
       "      <td>17.957220</td>\n",
       "    </tr>\n",
       "    <tr>\n",
       "      <th>9</th>\n",
       "      <td>2008-01-15</td>\n",
       "      <td>18.275966</td>\n",
       "      <td>15.576141</td>\n",
       "      <td>20.375408</td>\n",
       "      <td>18.275966</td>\n",
       "      <td>18.275966</td>\n",
       "      <td>-0.320372</td>\n",
       "      <td>-0.320372</td>\n",
       "      <td>-0.320372</td>\n",
       "      <td>-0.145702</td>\n",
       "      <td>-0.145702</td>\n",
       "      <td>-0.145702</td>\n",
       "      <td>-0.174670</td>\n",
       "      <td>-0.174670</td>\n",
       "      <td>-0.174670</td>\n",
       "      <td>0.0</td>\n",
       "      <td>0.0</td>\n",
       "      <td>0.0</td>\n",
       "      <td>17.955594</td>\n",
       "    </tr>\n",
       "  </tbody>\n",
       "</table>\n",
       "</div>"
      ],
      "text/plain": [
       "          ds      trend  yhat_lower  yhat_upper  trend_lower  trend_upper  \\\n",
       "0 2008-01-02  18.356760   15.633974   20.464484    18.356760    18.356760   \n",
       "1 2008-01-03  18.350545   15.584719   20.677830    18.350545    18.350545   \n",
       "2 2008-01-04  18.344331   15.360309   20.396535    18.344331    18.344331   \n",
       "3 2008-01-07  18.325686   15.561423   20.433863    18.325686    18.325686   \n",
       "4 2008-01-08  18.319471   15.430505   20.250370    18.319471    18.319471   \n",
       "5 2008-01-09  18.313256   15.418809   20.338259    18.313256    18.313256   \n",
       "6 2008-01-10  18.307041   15.442994   20.478272    18.307041    18.307041   \n",
       "7 2008-01-11  18.300826   15.533346   20.388866    18.300826    18.300826   \n",
       "8 2008-01-14  18.282181   15.454077   20.443486    18.282181    18.282181   \n",
       "9 2008-01-15  18.275966   15.576141   20.375408    18.275966    18.275966   \n",
       "\n",
       "   additive_terms  additive_terms_lower  additive_terms_upper    weekly  \\\n",
       "0       -0.366345             -0.366345             -0.366345 -0.144956   \n",
       "1       -0.390295             -0.390295             -0.390295 -0.165654   \n",
       "2       -0.395991             -0.395991             -0.395991 -0.169522   \n",
       "3       -0.366338             -0.366338             -0.366338 -0.142731   \n",
       "4       -0.365816             -0.365816             -0.365816 -0.145702   \n",
       "5       -0.360500             -0.360500             -0.360500 -0.144956   \n",
       "6       -0.375705             -0.375705             -0.375705 -0.165654   \n",
       "7       -0.373321             -0.373321             -0.373321 -0.169522   \n",
       "8       -0.324961             -0.324961             -0.324961 -0.142731   \n",
       "9       -0.320372             -0.320372             -0.320372 -0.145702   \n",
       "\n",
       "   weekly_lower  weekly_upper    yearly  yearly_lower  yearly_upper  \\\n",
       "0     -0.144956     -0.144956 -0.221390     -0.221390     -0.221390   \n",
       "1     -0.165654     -0.165654 -0.224641     -0.224641     -0.224641   \n",
       "2     -0.169522     -0.169522 -0.226469     -0.226469     -0.226469   \n",
       "3     -0.142731     -0.142731 -0.223607     -0.223607     -0.223607   \n",
       "4     -0.145702     -0.145702 -0.220114     -0.220114     -0.220114   \n",
       "5     -0.144956     -0.144956 -0.215545     -0.215545     -0.215545   \n",
       "6     -0.165654     -0.165654 -0.210051     -0.210051     -0.210051   \n",
       "7     -0.169522     -0.169522 -0.203799     -0.203799     -0.203799   \n",
       "8     -0.142731     -0.142731 -0.182230     -0.182230     -0.182230   \n",
       "9     -0.145702     -0.145702 -0.174670     -0.174670     -0.174670   \n",
       "\n",
       "   multiplicative_terms  multiplicative_terms_lower  \\\n",
       "0                   0.0                         0.0   \n",
       "1                   0.0                         0.0   \n",
       "2                   0.0                         0.0   \n",
       "3                   0.0                         0.0   \n",
       "4                   0.0                         0.0   \n",
       "5                   0.0                         0.0   \n",
       "6                   0.0                         0.0   \n",
       "7                   0.0                         0.0   \n",
       "8                   0.0                         0.0   \n",
       "9                   0.0                         0.0   \n",
       "\n",
       "   multiplicative_terms_upper       yhat  \n",
       "0                         0.0  17.990415  \n",
       "1                         0.0  17.960251  \n",
       "2                         0.0  17.948340  \n",
       "3                         0.0  17.959347  \n",
       "4                         0.0  17.953655  \n",
       "5                         0.0  17.952755  \n",
       "6                         0.0  17.931336  \n",
       "7                         0.0  17.927505  \n",
       "8                         0.0  17.957220  \n",
       "9                         0.0  17.955594  "
      ]
     },
     "execution_count": 28,
     "metadata": {},
     "output_type": "execute_result"
    }
   ],
   "source": [
    "##Using our built model \"model\" to predict the future one-year ahead\n",
    "forecast = model.predict(df_future)\n",
    "forecast.head(10)"
   ]
  },
  {
   "cell_type": "code",
   "execution_count": null,
   "metadata": {},
   "outputs": [],
   "source": []
  },
  {
   "cell_type": "code",
   "execution_count": 29,
   "metadata": {},
   "outputs": [
    {
     "data": {
      "image/png": "[encoded data removed]",
      "text/plain": [
       "<Figure size 720x432 with 1 Axes>"
      ]
     },
     "metadata": {},
     "output_type": "display_data"
    }
   ],
   "source": [
    "forecast_plot = model.plot(forecast, xlabel='Date', ylabel='price')"
   ]
  },
  {
   "cell_type": "code",
   "execution_count": 30,
   "metadata": {},
   "outputs": [
    {
     "data": {
      "image/png": "[encoded data removed]",
      "text/plain": [
       "<Figure size 648x648 with 3 Axes>"
      ]
     },
     "metadata": {},
     "output_type": "display_data"
    }
   ],
   "source": [
    "figure = model.plot_components(forecast)"
   ]
  },
  {
   "cell_type": "code",
   "execution_count": 31,
   "metadata": {},
   "outputs": [],
   "source": [
    "prediction = forecast.copy()\n",
    "prediction.index = pd.DatetimeIndex(prediction.ds)"
   ]
  },
  {
   "cell_type": "code",
   "execution_count": 32,
   "metadata": {},
   "outputs": [
    {
     "data": {
      "text/plain": [
       "<matplotlib.axes._subplots.AxesSubplot at 0x7fec01f5cbe0>"
      ]
     },
     "execution_count": 32,
     "metadata": {},
     "output_type": "execute_result"
    },
    {
     "data": {
      "image/png": "[encoded data removed]",
      "text/plain": [
       "<Figure size 1440x360 with 1 Axes>"
      ]
     },
     "metadata": {
      "needs_background": "light"
     },
     "output_type": "display_data"
    }
   ],
   "source": [
    "df_fbp.plot(figsize=(20,5))\n",
    "prediction.yhat.plot(color='r')"
   ]
  },
  {
   "cell_type": "code",
   "execution_count": 33,
   "metadata": {},
   "outputs": [
    {
     "name": "stderr",
     "output_type": "stream",
     "text": [
      "INFO:fbprophet:Making 21 forecasts with cutoffs between 2010-02-22 00:00:00 and 2020-01-01 00:00:00\n"
     ]
    },
    {
     "data": {
      "application/vnd.jupyter.widget-view+json": {
       "model_id": "3b7f1cc8871f4f248d942b97f893db54",
       "version_major": 2,
       "version_minor": 0
      },
      "text/plain": [
       "HBox(children=(FloatProgress(value=0.0, max=21.0), HTML(value='')))"
      ]
     },
     "metadata": {},
     "output_type": "display_data"
    },
    {
     "name": "stdout",
     "output_type": "stream",
     "text": [
      "\n"
     ]
    },
    {
     "data": {
      "text/html": [
       "<div>\n",
       "<style scoped>\n",
       "    .dataframe tbody tr th:only-of-type {\n",
       "        vertical-align: middle;\n",
       "    }\n",
       "\n",
       "    .dataframe tbody tr th {\n",
       "        vertical-align: top;\n",
       "    }\n",
       "\n",
       "    .dataframe thead th {\n",
       "        text-align: right;\n",
       "    }\n",
       "</style>\n",
       "<table border=\"1\" class=\"dataframe\">\n",
       "  <thead>\n",
       "    <tr style=\"text-align: right;\">\n",
       "      <th></th>\n",
       "      <th>ds</th>\n",
       "      <th>yhat</th>\n",
       "      <th>yhat_lower</th>\n",
       "      <th>yhat_upper</th>\n",
       "      <th>y</th>\n",
       "      <th>cutoff</th>\n",
       "    </tr>\n",
       "  </thead>\n",
       "  <tbody>\n",
       "    <tr>\n",
       "      <th>0</th>\n",
       "      <td>2010-02-23</td>\n",
       "      <td>20.663346</td>\n",
       "      <td>19.930859</td>\n",
       "      <td>21.387131</td>\n",
       "      <td>21.158543</td>\n",
       "      <td>2010-02-22</td>\n",
       "    </tr>\n",
       "    <tr>\n",
       "      <th>1</th>\n",
       "      <td>2010-02-24</td>\n",
       "      <td>20.613937</td>\n",
       "      <td>19.881477</td>\n",
       "      <td>21.309575</td>\n",
       "      <td>21.409201</td>\n",
       "      <td>2010-02-22</td>\n",
       "    </tr>\n",
       "    <tr>\n",
       "      <th>2</th>\n",
       "      <td>2010-02-25</td>\n",
       "      <td>20.594134</td>\n",
       "      <td>19.880582</td>\n",
       "      <td>21.354543</td>\n",
       "      <td>21.495630</td>\n",
       "      <td>2010-02-22</td>\n",
       "    </tr>\n",
       "    <tr>\n",
       "      <th>3</th>\n",
       "      <td>2010-02-26</td>\n",
       "      <td>20.560155</td>\n",
       "      <td>19.831370</td>\n",
       "      <td>21.273132</td>\n",
       "      <td>21.305483</td>\n",
       "      <td>2010-02-22</td>\n",
       "    </tr>\n",
       "    <tr>\n",
       "      <th>4</th>\n",
       "      <td>2010-03-01</td>\n",
       "      <td>20.463102</td>\n",
       "      <td>19.664480</td>\n",
       "      <td>21.190680</td>\n",
       "      <td>21.383272</td>\n",
       "      <td>2010-02-22</td>\n",
       "    </tr>\n",
       "    <tr>\n",
       "      <th>5</th>\n",
       "      <td>2010-03-02</td>\n",
       "      <td>20.487498</td>\n",
       "      <td>19.793263</td>\n",
       "      <td>21.235298</td>\n",
       "      <td>21.244974</td>\n",
       "      <td>2010-02-22</td>\n",
       "    </tr>\n",
       "    <tr>\n",
       "      <th>6</th>\n",
       "      <td>2010-03-03</td>\n",
       "      <td>20.486434</td>\n",
       "      <td>19.792034</td>\n",
       "      <td>21.215926</td>\n",
       "      <td>21.175833</td>\n",
       "      <td>2010-02-22</td>\n",
       "    </tr>\n",
       "    <tr>\n",
       "      <th>7</th>\n",
       "      <td>2010-03-04</td>\n",
       "      <td>20.522356</td>\n",
       "      <td>19.776522</td>\n",
       "      <td>21.181720</td>\n",
       "      <td>21.400564</td>\n",
       "      <td>2010-02-22</td>\n",
       "    </tr>\n",
       "    <tr>\n",
       "      <th>8</th>\n",
       "      <td>2010-03-05</td>\n",
       "      <td>20.550605</td>\n",
       "      <td>19.793253</td>\n",
       "      <td>21.295299</td>\n",
       "      <td>21.564781</td>\n",
       "      <td>2010-02-22</td>\n",
       "    </tr>\n",
       "    <tr>\n",
       "      <th>9</th>\n",
       "      <td>2010-03-08</td>\n",
       "      <td>20.668381</td>\n",
       "      <td>19.928925</td>\n",
       "      <td>21.380048</td>\n",
       "      <td>21.348698</td>\n",
       "      <td>2010-02-22</td>\n",
       "    </tr>\n",
       "  </tbody>\n",
       "</table>\n",
       "</div>"
      ],
      "text/plain": [
       "          ds       yhat  yhat_lower  yhat_upper          y     cutoff\n",
       "0 2010-02-23  20.663346   19.930859   21.387131  21.158543 2010-02-22\n",
       "1 2010-02-24  20.613937   19.881477   21.309575  21.409201 2010-02-22\n",
       "2 2010-02-25  20.594134   19.880582   21.354543  21.495630 2010-02-22\n",
       "3 2010-02-26  20.560155   19.831370   21.273132  21.305483 2010-02-22\n",
       "4 2010-03-01  20.463102   19.664480   21.190680  21.383272 2010-02-22\n",
       "5 2010-03-02  20.487498   19.793263   21.235298  21.244974 2010-02-22\n",
       "6 2010-03-03  20.486434   19.792034   21.215926  21.175833 2010-02-22\n",
       "7 2010-03-04  20.522356   19.776522   21.181720  21.400564 2010-02-22\n",
       "8 2010-03-05  20.550605   19.793253   21.295299  21.564781 2010-02-22\n",
       "9 2010-03-08  20.668381   19.928925   21.380048  21.348698 2010-02-22"
      ]
     },
     "execution_count": 33,
     "metadata": {},
     "output_type": "execute_result"
    }
   ],
   "source": [
    "####Analysis, Diagnostic and Cross Validation\n",
    "\n",
    "df_cv = cross_validation(model, initial='730 days', period='180 days', horizon='365 days')\n",
    "df_cv.head(10)"
   ]
  },
  {
   "cell_type": "code",
   "execution_count": 34,
   "metadata": {},
   "outputs": [
    {
     "data": {
      "text/html": [
       "<div>\n",
       "<style scoped>\n",
       "    .dataframe tbody tr th:only-of-type {\n",
       "        vertical-align: middle;\n",
       "    }\n",
       "\n",
       "    .dataframe tbody tr th {\n",
       "        vertical-align: top;\n",
       "    }\n",
       "\n",
       "    .dataframe thead th {\n",
       "        text-align: right;\n",
       "    }\n",
       "</style>\n",
       "<table border=\"1\" class=\"dataframe\">\n",
       "  <thead>\n",
       "    <tr style=\"text-align: right;\">\n",
       "      <th></th>\n",
       "      <th>horizon</th>\n",
       "      <th>mse</th>\n",
       "      <th>rmse</th>\n",
       "      <th>mae</th>\n",
       "      <th>mape</th>\n",
       "      <th>mdape</th>\n",
       "      <th>coverage</th>\n",
       "    </tr>\n",
       "  </thead>\n",
       "  <tbody>\n",
       "    <tr>\n",
       "      <th>0</th>\n",
       "      <td>37 days</td>\n",
       "      <td>8.916676</td>\n",
       "      <td>2.986080</td>\n",
       "      <td>2.422422</td>\n",
       "      <td>0.070347</td>\n",
       "      <td>0.054926</td>\n",
       "      <td>0.399242</td>\n",
       "    </tr>\n",
       "    <tr>\n",
       "      <th>1</th>\n",
       "      <td>38 days</td>\n",
       "      <td>9.086188</td>\n",
       "      <td>3.014331</td>\n",
       "      <td>2.453155</td>\n",
       "      <td>0.071436</td>\n",
       "      <td>0.056390</td>\n",
       "      <td>0.389394</td>\n",
       "    </tr>\n",
       "    <tr>\n",
       "      <th>2</th>\n",
       "      <td>39 days</td>\n",
       "      <td>9.160933</td>\n",
       "      <td>3.026703</td>\n",
       "      <td>2.464956</td>\n",
       "      <td>0.071974</td>\n",
       "      <td>0.057233</td>\n",
       "      <td>0.388258</td>\n",
       "    </tr>\n",
       "    <tr>\n",
       "      <th>3</th>\n",
       "      <td>40 days</td>\n",
       "      <td>9.188912</td>\n",
       "      <td>3.031322</td>\n",
       "      <td>2.466598</td>\n",
       "      <td>0.072332</td>\n",
       "      <td>0.056390</td>\n",
       "      <td>0.390880</td>\n",
       "    </tr>\n",
       "    <tr>\n",
       "      <th>4</th>\n",
       "      <td>41 days</td>\n",
       "      <td>9.164503</td>\n",
       "      <td>3.027293</td>\n",
       "      <td>2.467829</td>\n",
       "      <td>0.072697</td>\n",
       "      <td>0.056331</td>\n",
       "      <td>0.391288</td>\n",
       "    </tr>\n",
       "  </tbody>\n",
       "</table>\n",
       "</div>"
      ],
      "text/plain": [
       "  horizon       mse      rmse       mae      mape     mdape  coverage\n",
       "0 37 days  8.916676  2.986080  2.422422  0.070347  0.054926  0.399242\n",
       "1 38 days  9.086188  3.014331  2.453155  0.071436  0.056390  0.389394\n",
       "2 39 days  9.160933  3.026703  2.464956  0.071974  0.057233  0.388258\n",
       "3 40 days  9.188912  3.031322  2.466598  0.072332  0.056390  0.390880\n",
       "4 41 days  9.164503  3.027293  2.467829  0.072697  0.056331  0.391288"
      ]
     },
     "execution_count": 34,
     "metadata": {},
     "output_type": "execute_result"
    }
   ],
   "source": [
    "df_pm = performance_metrics(df_cv)\n",
    "df_pm.head()"
   ]
  },
  {
   "cell_type": "code",
   "execution_count": 35,
   "metadata": {},
   "outputs": [],
   "source": [
    "df_pm_tail = df_pm.tail()\n",
    "df_pm_tail.to_excel('df_pm_tail.xlsx')"
   ]
  },
  {
   "cell_type": "markdown",
   "metadata": {},
   "source": [
    "**Hyperparameter Tuning fbprophet**"
   ]
  },
  {
   "cell_type": "code",
   "execution_count": null,
   "metadata": {},
   "outputs": [],
   "source": []
  },
  {
   "cell_type": "code",
   "execution_count": 36,
   "metadata": {},
   "outputs": [],
   "source": [
    "cutoffs = pd.to_datetime(['2018-02-15', '2018-08-15', '2019-02-15'])\n",
    "#df_cv2 = cross_validation(m, cutoffs=cutoffs, horizon='365 days')"
   ]
  },
  {
   "cell_type": "code",
   "execution_count": 37,
   "metadata": {},
   "outputs": [
    {
     "name": "stderr",
     "output_type": "stream",
     "text": [
      "INFO:fbprophet:Disabling daily seasonality. Run prophet with daily_seasonality=True to override this.\n",
      "INFO:fbprophet:Applying in parallel with <concurrent.futures.process.ProcessPoolExecutor object at 0x7fec013f7d30>\n",
      "INFO:fbprophet:Disabling daily seasonality. Run prophet with daily_seasonality=True to override this.\n",
      "INFO:fbprophet:Applying in parallel with <concurrent.futures.process.ProcessPoolExecutor object at 0x7fec013f7ba8>\n",
      "INFO:fbprophet:Disabling daily seasonality. Run prophet with daily_seasonality=True to override this.\n",
      "INFO:fbprophet:Applying in parallel with <concurrent.futures.process.ProcessPoolExecutor object at 0x7fec016593c8>\n",
      "INFO:fbprophet:Disabling daily seasonality. Run prophet with daily_seasonality=True to override this.\n",
      "INFO:fbprophet:Applying in parallel with <concurrent.futures.process.ProcessPoolExecutor object at 0x7fec01620748>\n",
      "INFO:fbprophet:Disabling daily seasonality. Run prophet with daily_seasonality=True to override this.\n",
      "INFO:fbprophet:Applying in parallel with <concurrent.futures.process.ProcessPoolExecutor object at 0x7fec01419fd0>\n",
      "INFO:fbprophet:Disabling daily seasonality. Run prophet with daily_seasonality=True to override this.\n",
      "INFO:fbprophet:Applying in parallel with <concurrent.futures.process.ProcessPoolExecutor object at 0x7fec01419898>\n",
      "INFO:fbprophet:Disabling daily seasonality. Run prophet with daily_seasonality=True to override this.\n",
      "INFO:fbprophet:Applying in parallel with <concurrent.futures.process.ProcessPoolExecutor object at 0x7fec01f1e0b8>\n",
      "INFO:fbprophet:Disabling daily seasonality. Run prophet with daily_seasonality=True to override this.\n",
      "INFO:fbprophet:Applying in parallel with <concurrent.futures.process.ProcessPoolExecutor object at 0x7fec0144c2b0>\n",
      "INFO:fbprophet:Disabling daily seasonality. Run prophet with daily_seasonality=True to override this.\n",
      "INFO:fbprophet:Applying in parallel with <concurrent.futures.process.ProcessPoolExecutor object at 0x7fec0164f0b8>\n",
      "INFO:fbprophet:Disabling daily seasonality. Run prophet with daily_seasonality=True to override this.\n",
      "INFO:fbprophet:Applying in parallel with <concurrent.futures.process.ProcessPoolExecutor object at 0x7fec014190b8>\n",
      "INFO:fbprophet:Disabling daily seasonality. Run prophet with daily_seasonality=True to override this.\n",
      "INFO:fbprophet:Applying in parallel with <concurrent.futures.process.ProcessPoolExecutor object at 0x7fec01419160>\n",
      "INFO:fbprophet:Disabling daily seasonality. Run prophet with daily_seasonality=True to override this.\n",
      "INFO:fbprophet:Applying in parallel with <concurrent.futures.process.ProcessPoolExecutor object at 0x7fec01659a20>\n",
      "INFO:fbprophet:Disabling daily seasonality. Run prophet with daily_seasonality=True to override this.\n",
      "INFO:fbprophet:Applying in parallel with <concurrent.futures.process.ProcessPoolExecutor object at 0x7fec0144cba8>\n",
      "INFO:fbprophet:Disabling daily seasonality. Run prophet with daily_seasonality=True to override this.\n",
      "INFO:fbprophet:Applying in parallel with <concurrent.futures.process.ProcessPoolExecutor object at 0x7fec01f1e080>\n",
      "INFO:fbprophet:Disabling daily seasonality. Run prophet with daily_seasonality=True to override this.\n",
      "INFO:fbprophet:Applying in parallel with <concurrent.futures.process.ProcessPoolExecutor object at 0x7fec01491550>\n",
      "INFO:fbprophet:Disabling daily seasonality. Run prophet with daily_seasonality=True to override this.\n",
      "INFO:fbprophet:Applying in parallel with <concurrent.futures.process.ProcessPoolExecutor object at 0x7fec01491748>\n"
     ]
    },
    {
     "name": "stdout",
     "output_type": "stream",
     "text": [
      "    changepoint_prior_scale  seasonality_prior_scale      rmse\n",
      "0                     0.001                     0.01  3.066554\n",
      "1                     0.001                     0.10  2.998525\n",
      "2                     0.001                     1.00  3.001357\n",
      "3                     0.001                    10.00  3.026289\n",
      "4                     0.010                     0.01  1.174054\n",
      "5                     0.010                     0.10  1.177582\n",
      "6                     0.010                     1.00  1.158835\n",
      "7                     0.010                    10.00  1.182602\n",
      "8                     0.100                     0.01  1.399792\n",
      "9                     0.100                     0.10  1.391295\n",
      "10                    0.100                     1.00  1.395876\n",
      "11                    0.100                    10.00  1.398039\n",
      "12                    0.500                     0.01  1.681496\n",
      "13                    0.500                     0.10  1.699253\n",
      "14                    0.500                     1.00  1.666498\n",
      "15                    0.500                    10.00  1.682944\n"
     ]
    }
   ],
   "source": [
    "# Python\n",
    "import itertools\n",
    "import numpy as np\n",
    "import pandas as pd\n",
    "\n",
    "param_grid = {  \n",
    "    'changepoint_prior_scale': [0.001, 0.01, 0.1, 0.5],\n",
    "    'seasonality_prior_scale': [0.01, 0.1, 1.0, 10.0],\n",
    "}\n",
    "\n",
    "# Generate all combinations of parameters\n",
    "all_params = [dict(zip(param_grid.keys(), v)) for v in itertools.product(*param_grid.values())]\n",
    "rmses = []  # Store the RMSEs for each params here\n",
    "\n",
    "# Use cross validation to evaluate all parameters\n",
    "for params in all_params:\n",
    "    m = Prophet(**params).fit(df_fbp)  # Fit model with given params\n",
    "    df_cv = cross_validation(m, cutoffs=cutoffs, horizon='30 days', parallel=\"processes\")\n",
    "    df_p = performance_metrics(df_cv, rolling_window=1)\n",
    "    rmses.append(df_p['rmse'].values[0])\n",
    "\n",
    "# Find the best parameters\n",
    "tuning_results = pd.DataFrame(all_params)\n",
    "tuning_results['rmse'] = rmses\n",
    "print(tuning_results)"
   ]
  },
  {
   "cell_type": "code",
   "execution_count": 38,
   "metadata": {},
   "outputs": [
    {
     "name": "stdout",
     "output_type": "stream",
     "text": [
      "{'changepoint_prior_scale': 0.01, 'seasonality_prior_scale': 1.0}\n"
     ]
    }
   ],
   "source": [
    "best_params = all_params[np.argmin(rmses)]\n",
    "print(best_params)"
   ]
  },
  {
   "cell_type": "code",
   "execution_count": 39,
   "metadata": {},
   "outputs": [],
   "source": [
    "param_grid = best_params"
   ]
  },
  {
   "cell_type": "code",
   "execution_count": 40,
   "metadata": {},
   "outputs": [
    {
     "name": "stderr",
     "output_type": "stream",
     "text": [
      "INFO:fbprophet:Disabling daily seasonality. Run prophet with daily_seasonality=True to override this.\n"
     ]
    }
   ],
   "source": [
    "##prediction using best param settings\n",
    "model2 = Prophet(**param_grid).fit(df_fbp)"
   ]
  },
  {
   "cell_type": "code",
   "execution_count": null,
   "metadata": {},
   "outputs": [],
   "source": []
  },
  {
   "cell_type": "code",
   "execution_count": 41,
   "metadata": {},
   "outputs": [],
   "source": [
    "predict2 = model2.predict(df_future)"
   ]
  },
  {
   "cell_type": "code",
   "execution_count": 42,
   "metadata": {},
   "outputs": [
    {
     "data": {
      "text/html": [
       "<div>\n",
       "<style scoped>\n",
       "    .dataframe tbody tr th:only-of-type {\n",
       "        vertical-align: middle;\n",
       "    }\n",
       "\n",
       "    .dataframe tbody tr th {\n",
       "        vertical-align: top;\n",
       "    }\n",
       "\n",
       "    .dataframe thead th {\n",
       "        text-align: right;\n",
       "    }\n",
       "</style>\n",
       "<table border=\"1\" class=\"dataframe\">\n",
       "  <thead>\n",
       "    <tr style=\"text-align: right;\">\n",
       "      <th></th>\n",
       "      <th>ds</th>\n",
       "      <th>trend</th>\n",
       "      <th>yhat_lower</th>\n",
       "      <th>yhat_upper</th>\n",
       "      <th>trend_lower</th>\n",
       "      <th>trend_upper</th>\n",
       "      <th>additive_terms</th>\n",
       "      <th>additive_terms_lower</th>\n",
       "      <th>additive_terms_upper</th>\n",
       "      <th>weekly</th>\n",
       "      <th>weekly_lower</th>\n",
       "      <th>weekly_upper</th>\n",
       "      <th>yearly</th>\n",
       "      <th>yearly_lower</th>\n",
       "      <th>yearly_upper</th>\n",
       "      <th>multiplicative_terms</th>\n",
       "      <th>multiplicative_terms_lower</th>\n",
       "      <th>multiplicative_terms_upper</th>\n",
       "      <th>yhat</th>\n",
       "    </tr>\n",
       "  </thead>\n",
       "  <tbody>\n",
       "    <tr>\n",
       "      <th>0</th>\n",
       "      <td>2008-01-02</td>\n",
       "      <td>16.997032</td>\n",
       "      <td>13.375296</td>\n",
       "      <td>19.405917</td>\n",
       "      <td>16.997032</td>\n",
       "      <td>16.997032</td>\n",
       "      <td>-0.600826</td>\n",
       "      <td>-0.600826</td>\n",
       "      <td>-0.600826</td>\n",
       "      <td>-0.422801</td>\n",
       "      <td>-0.422801</td>\n",
       "      <td>-0.422801</td>\n",
       "      <td>-0.178025</td>\n",
       "      <td>-0.178025</td>\n",
       "      <td>-0.178025</td>\n",
       "      <td>0.0</td>\n",
       "      <td>0.0</td>\n",
       "      <td>0.0</td>\n",
       "      <td>16.396206</td>\n",
       "    </tr>\n",
       "    <tr>\n",
       "      <th>1</th>\n",
       "      <td>2008-01-03</td>\n",
       "      <td>16.997914</td>\n",
       "      <td>13.517443</td>\n",
       "      <td>19.318615</td>\n",
       "      <td>16.997914</td>\n",
       "      <td>16.997914</td>\n",
       "      <td>-0.627085</td>\n",
       "      <td>-0.627085</td>\n",
       "      <td>-0.627085</td>\n",
       "      <td>-0.451701</td>\n",
       "      <td>-0.451701</td>\n",
       "      <td>-0.451701</td>\n",
       "      <td>-0.175384</td>\n",
       "      <td>-0.175384</td>\n",
       "      <td>-0.175384</td>\n",
       "      <td>0.0</td>\n",
       "      <td>0.0</td>\n",
       "      <td>0.0</td>\n",
       "      <td>16.370828</td>\n",
       "    </tr>\n",
       "    <tr>\n",
       "      <th>2</th>\n",
       "      <td>2008-01-04</td>\n",
       "      <td>16.998795</td>\n",
       "      <td>13.234035</td>\n",
       "      <td>19.362509</td>\n",
       "      <td>16.998795</td>\n",
       "      <td>16.998795</td>\n",
       "      <td>-0.623063</td>\n",
       "      <td>-0.623063</td>\n",
       "      <td>-0.623063</td>\n",
       "      <td>-0.451425</td>\n",
       "      <td>-0.451425</td>\n",
       "      <td>-0.451425</td>\n",
       "      <td>-0.171639</td>\n",
       "      <td>-0.171639</td>\n",
       "      <td>-0.171639</td>\n",
       "      <td>0.0</td>\n",
       "      <td>0.0</td>\n",
       "      <td>0.0</td>\n",
       "      <td>16.375732</td>\n",
       "    </tr>\n",
       "    <tr>\n",
       "      <th>3</th>\n",
       "      <td>2008-01-07</td>\n",
       "      <td>17.001441</td>\n",
       "      <td>13.383316</td>\n",
       "      <td>19.186114</td>\n",
       "      <td>17.001441</td>\n",
       "      <td>17.001441</td>\n",
       "      <td>-0.580808</td>\n",
       "      <td>-0.580808</td>\n",
       "      <td>-0.580808</td>\n",
       "      <td>-0.426386</td>\n",
       "      <td>-0.426386</td>\n",
       "      <td>-0.426386</td>\n",
       "      <td>-0.154422</td>\n",
       "      <td>-0.154422</td>\n",
       "      <td>-0.154422</td>\n",
       "      <td>0.0</td>\n",
       "      <td>0.0</td>\n",
       "      <td>0.0</td>\n",
       "      <td>16.420633</td>\n",
       "    </tr>\n",
       "    <tr>\n",
       "      <th>4</th>\n",
       "      <td>2008-01-08</td>\n",
       "      <td>17.002322</td>\n",
       "      <td>13.375455</td>\n",
       "      <td>19.072265</td>\n",
       "      <td>17.002322</td>\n",
       "      <td>17.002322</td>\n",
       "      <td>-0.576939</td>\n",
       "      <td>-0.576939</td>\n",
       "      <td>-0.576939</td>\n",
       "      <td>-0.429889</td>\n",
       "      <td>-0.429889</td>\n",
       "      <td>-0.429889</td>\n",
       "      <td>-0.147050</td>\n",
       "      <td>-0.147050</td>\n",
       "      <td>-0.147050</td>\n",
       "      <td>0.0</td>\n",
       "      <td>0.0</td>\n",
       "      <td>0.0</td>\n",
       "      <td>16.425383</td>\n",
       "    </tr>\n",
       "  </tbody>\n",
       "</table>\n",
       "</div>"
      ],
      "text/plain": [
       "          ds      trend  yhat_lower  yhat_upper  trend_lower  trend_upper  \\\n",
       "0 2008-01-02  16.997032   13.375296   19.405917    16.997032    16.997032   \n",
       "1 2008-01-03  16.997914   13.517443   19.318615    16.997914    16.997914   \n",
       "2 2008-01-04  16.998795   13.234035   19.362509    16.998795    16.998795   \n",
       "3 2008-01-07  17.001441   13.383316   19.186114    17.001441    17.001441   \n",
       "4 2008-01-08  17.002322   13.375455   19.072265    17.002322    17.002322   \n",
       "\n",
       "   additive_terms  additive_terms_lower  additive_terms_upper    weekly  \\\n",
       "0       -0.600826             -0.600826             -0.600826 -0.422801   \n",
       "1       -0.627085             -0.627085             -0.627085 -0.451701   \n",
       "2       -0.623063             -0.623063             -0.623063 -0.451425   \n",
       "3       -0.580808             -0.580808             -0.580808 -0.426386   \n",
       "4       -0.576939             -0.576939             -0.576939 -0.429889   \n",
       "\n",
       "   weekly_lower  weekly_upper    yearly  yearly_lower  yearly_upper  \\\n",
       "0     -0.422801     -0.422801 -0.178025     -0.178025     -0.178025   \n",
       "1     -0.451701     -0.451701 -0.175384     -0.175384     -0.175384   \n",
       "2     -0.451425     -0.451425 -0.171639     -0.171639     -0.171639   \n",
       "3     -0.426386     -0.426386 -0.154422     -0.154422     -0.154422   \n",
       "4     -0.429889     -0.429889 -0.147050     -0.147050     -0.147050   \n",
       "\n",
       "   multiplicative_terms  multiplicative_terms_lower  \\\n",
       "0                   0.0                         0.0   \n",
       "1                   0.0                         0.0   \n",
       "2                   0.0                         0.0   \n",
       "3                   0.0                         0.0   \n",
       "4                   0.0                         0.0   \n",
       "\n",
       "   multiplicative_terms_upper       yhat  \n",
       "0                         0.0  16.396206  \n",
       "1                         0.0  16.370828  \n",
       "2                         0.0  16.375732  \n",
       "3                         0.0  16.420633  \n",
       "4                         0.0  16.425383  "
      ]
     },
     "execution_count": 42,
     "metadata": {},
     "output_type": "execute_result"
    }
   ],
   "source": [
    "predict2.head()"
   ]
  },
  {
   "cell_type": "code",
   "execution_count": 43,
   "metadata": {},
   "outputs": [
    {
     "name": "stderr",
     "output_type": "stream",
     "text": [
      "INFO:fbprophet:Making 21 forecasts with cutoffs between 2010-02-22 00:00:00 and 2020-01-01 00:00:00\n"
     ]
    },
    {
     "data": {
      "application/vnd.jupyter.widget-view+json": {
       "model_id": "b7a4056c1a564ab8939f52d5568b98c6",
       "version_major": 2,
       "version_minor": 0
      },
      "text/plain": [
       "HBox(children=(FloatProgress(value=0.0, max=21.0), HTML(value='')))"
      ]
     },
     "metadata": {},
     "output_type": "display_data"
    },
    {
     "name": "stdout",
     "output_type": "stream",
     "text": [
      "\n"
     ]
    },
    {
     "data": {
      "text/html": [
       "<div>\n",
       "<style scoped>\n",
       "    .dataframe tbody tr th:only-of-type {\n",
       "        vertical-align: middle;\n",
       "    }\n",
       "\n",
       "    .dataframe tbody tr th {\n",
       "        vertical-align: top;\n",
       "    }\n",
       "\n",
       "    .dataframe thead th {\n",
       "        text-align: right;\n",
       "    }\n",
       "</style>\n",
       "<table border=\"1\" class=\"dataframe\">\n",
       "  <thead>\n",
       "    <tr style=\"text-align: right;\">\n",
       "      <th></th>\n",
       "      <th>ds</th>\n",
       "      <th>yhat</th>\n",
       "      <th>yhat_lower</th>\n",
       "      <th>yhat_upper</th>\n",
       "      <th>y</th>\n",
       "      <th>cutoff</th>\n",
       "    </tr>\n",
       "  </thead>\n",
       "  <tbody>\n",
       "    <tr>\n",
       "      <th>0</th>\n",
       "      <td>2010-02-23</td>\n",
       "      <td>20.669558</td>\n",
       "      <td>19.890368</td>\n",
       "      <td>21.379012</td>\n",
       "      <td>21.158543</td>\n",
       "      <td>2010-02-22</td>\n",
       "    </tr>\n",
       "    <tr>\n",
       "      <th>1</th>\n",
       "      <td>2010-02-24</td>\n",
       "      <td>20.621680</td>\n",
       "      <td>19.885336</td>\n",
       "      <td>21.342402</td>\n",
       "      <td>21.409201</td>\n",
       "      <td>2010-02-22</td>\n",
       "    </tr>\n",
       "    <tr>\n",
       "      <th>2</th>\n",
       "      <td>2010-02-25</td>\n",
       "      <td>20.605718</td>\n",
       "      <td>19.812981</td>\n",
       "      <td>21.390618</td>\n",
       "      <td>21.495630</td>\n",
       "      <td>2010-02-22</td>\n",
       "    </tr>\n",
       "    <tr>\n",
       "      <th>3</th>\n",
       "      <td>2010-02-26</td>\n",
       "      <td>20.568646</td>\n",
       "      <td>19.756471</td>\n",
       "      <td>21.330593</td>\n",
       "      <td>21.305483</td>\n",
       "      <td>2010-02-22</td>\n",
       "    </tr>\n",
       "    <tr>\n",
       "      <th>4</th>\n",
       "      <td>2010-03-01</td>\n",
       "      <td>20.476660</td>\n",
       "      <td>19.756758</td>\n",
       "      <td>21.196313</td>\n",
       "      <td>21.383272</td>\n",
       "      <td>2010-02-22</td>\n",
       "    </tr>\n",
       "    <tr>\n",
       "      <th>5</th>\n",
       "      <td>2010-03-02</td>\n",
       "      <td>20.502937</td>\n",
       "      <td>19.712978</td>\n",
       "      <td>21.239257</td>\n",
       "      <td>21.244974</td>\n",
       "      <td>2010-02-22</td>\n",
       "    </tr>\n",
       "    <tr>\n",
       "      <th>6</th>\n",
       "      <td>2010-03-03</td>\n",
       "      <td>20.503518</td>\n",
       "      <td>19.743722</td>\n",
       "      <td>21.270495</td>\n",
       "      <td>21.175833</td>\n",
       "      <td>2010-02-22</td>\n",
       "    </tr>\n",
       "    <tr>\n",
       "      <th>7</th>\n",
       "      <td>2010-03-04</td>\n",
       "      <td>20.543390</td>\n",
       "      <td>19.818770</td>\n",
       "      <td>21.261203</td>\n",
       "      <td>21.400564</td>\n",
       "      <td>2010-02-22</td>\n",
       "    </tr>\n",
       "    <tr>\n",
       "      <th>8</th>\n",
       "      <td>2010-03-05</td>\n",
       "      <td>20.568641</td>\n",
       "      <td>19.803617</td>\n",
       "      <td>21.244109</td>\n",
       "      <td>21.564781</td>\n",
       "      <td>2010-02-22</td>\n",
       "    </tr>\n",
       "    <tr>\n",
       "      <th>9</th>\n",
       "      <td>2010-03-08</td>\n",
       "      <td>20.691591</td>\n",
       "      <td>19.949462</td>\n",
       "      <td>21.453443</td>\n",
       "      <td>21.348698</td>\n",
       "      <td>2010-02-22</td>\n",
       "    </tr>\n",
       "  </tbody>\n",
       "</table>\n",
       "</div>"
      ],
      "text/plain": [
       "          ds       yhat  yhat_lower  yhat_upper          y     cutoff\n",
       "0 2010-02-23  20.669558   19.890368   21.379012  21.158543 2010-02-22\n",
       "1 2010-02-24  20.621680   19.885336   21.342402  21.409201 2010-02-22\n",
       "2 2010-02-25  20.605718   19.812981   21.390618  21.495630 2010-02-22\n",
       "3 2010-02-26  20.568646   19.756471   21.330593  21.305483 2010-02-22\n",
       "4 2010-03-01  20.476660   19.756758   21.196313  21.383272 2010-02-22\n",
       "5 2010-03-02  20.502937   19.712978   21.239257  21.244974 2010-02-22\n",
       "6 2010-03-03  20.503518   19.743722   21.270495  21.175833 2010-02-22\n",
       "7 2010-03-04  20.543390   19.818770   21.261203  21.400564 2010-02-22\n",
       "8 2010-03-05  20.568641   19.803617   21.244109  21.564781 2010-02-22\n",
       "9 2010-03-08  20.691591   19.949462   21.453443  21.348698 2010-02-22"
      ]
     },
     "execution_count": 43,
     "metadata": {},
     "output_type": "execute_result"
    }
   ],
   "source": [
    "df_cv2 = cross_validation(model2, initial='730 days', period='180 days', horizon='365 days')\n",
    "df_cv2.head(10)"
   ]
  },
  {
   "cell_type": "code",
   "execution_count": 44,
   "metadata": {},
   "outputs": [
    {
     "data": {
      "text/html": [
       "<div>\n",
       "<style scoped>\n",
       "    .dataframe tbody tr th:only-of-type {\n",
       "        vertical-align: middle;\n",
       "    }\n",
       "\n",
       "    .dataframe tbody tr th {\n",
       "        vertical-align: top;\n",
       "    }\n",
       "\n",
       "    .dataframe thead th {\n",
       "        text-align: right;\n",
       "    }\n",
       "</style>\n",
       "<table border=\"1\" class=\"dataframe\">\n",
       "  <thead>\n",
       "    <tr style=\"text-align: right;\">\n",
       "      <th></th>\n",
       "      <th>horizon</th>\n",
       "      <th>mse</th>\n",
       "      <th>rmse</th>\n",
       "      <th>mae</th>\n",
       "      <th>mape</th>\n",
       "      <th>mdape</th>\n",
       "      <th>coverage</th>\n",
       "    </tr>\n",
       "  </thead>\n",
       "  <tbody>\n",
       "    <tr>\n",
       "      <th>0</th>\n",
       "      <td>37 days</td>\n",
       "      <td>11.673213</td>\n",
       "      <td>3.416608</td>\n",
       "      <td>2.642674</td>\n",
       "      <td>0.077398</td>\n",
       "      <td>0.055536</td>\n",
       "      <td>0.507197</td>\n",
       "    </tr>\n",
       "    <tr>\n",
       "      <th>1</th>\n",
       "      <td>38 days</td>\n",
       "      <td>11.819718</td>\n",
       "      <td>3.437982</td>\n",
       "      <td>2.665257</td>\n",
       "      <td>0.078134</td>\n",
       "      <td>0.055863</td>\n",
       "      <td>0.503030</td>\n",
       "    </tr>\n",
       "    <tr>\n",
       "      <th>2</th>\n",
       "      <td>39 days</td>\n",
       "      <td>11.814450</td>\n",
       "      <td>3.437215</td>\n",
       "      <td>2.665751</td>\n",
       "      <td>0.078132</td>\n",
       "      <td>0.056217</td>\n",
       "      <td>0.503788</td>\n",
       "    </tr>\n",
       "    <tr>\n",
       "      <th>3</th>\n",
       "      <td>40 days</td>\n",
       "      <td>11.808072</td>\n",
       "      <td>3.436288</td>\n",
       "      <td>2.668094</td>\n",
       "      <td>0.078367</td>\n",
       "      <td>0.055536</td>\n",
       "      <td>0.504953</td>\n",
       "    </tr>\n",
       "    <tr>\n",
       "      <th>4</th>\n",
       "      <td>41 days</td>\n",
       "      <td>11.752722</td>\n",
       "      <td>3.428224</td>\n",
       "      <td>2.663763</td>\n",
       "      <td>0.078534</td>\n",
       "      <td>0.054711</td>\n",
       "      <td>0.507955</td>\n",
       "    </tr>\n",
       "  </tbody>\n",
       "</table>\n",
       "</div>"
      ],
      "text/plain": [
       "  horizon        mse      rmse       mae      mape     mdape  coverage\n",
       "0 37 days  11.673213  3.416608  2.642674  0.077398  0.055536  0.507197\n",
       "1 38 days  11.819718  3.437982  2.665257  0.078134  0.055863  0.503030\n",
       "2 39 days  11.814450  3.437215  2.665751  0.078132  0.056217  0.503788\n",
       "3 40 days  11.808072  3.436288  2.668094  0.078367  0.055536  0.504953\n",
       "4 41 days  11.752722  3.428224  2.663763  0.078534  0.054711  0.507955"
      ]
     },
     "execution_count": 44,
     "metadata": {},
     "output_type": "execute_result"
    }
   ],
   "source": [
    "df_pm2 = performance_metrics(df_cv2)\n",
    "df_pm2.head()\n"
   ]
  },
  {
   "cell_type": "code",
   "execution_count": 45,
   "metadata": {},
   "outputs": [],
   "source": [
    "df_pm2_tail = df_pm2.tail()\n",
    "df_pm2_tail.to_excel('df_pm2_tail.xlsx')"
   ]
  },
  {
   "cell_type": "code",
   "execution_count": 46,
   "metadata": {},
   "outputs": [
    {
     "data": {
      "text/html": [
       "<div>\n",
       "<style scoped>\n",
       "    .dataframe tbody tr th:only-of-type {\n",
       "        vertical-align: middle;\n",
       "    }\n",
       "\n",
       "    .dataframe tbody tr th {\n",
       "        vertical-align: top;\n",
       "    }\n",
       "\n",
       "    .dataframe thead th {\n",
       "        text-align: right;\n",
       "    }\n",
       "</style>\n",
       "<table border=\"1\" class=\"dataframe\">\n",
       "  <thead>\n",
       "    <tr style=\"text-align: right;\">\n",
       "      <th></th>\n",
       "      <th>ds</th>\n",
       "      <th>trend</th>\n",
       "      <th>yhat_lower</th>\n",
       "      <th>yhat_upper</th>\n",
       "      <th>trend_lower</th>\n",
       "      <th>trend_upper</th>\n",
       "      <th>additive_terms</th>\n",
       "      <th>additive_terms_lower</th>\n",
       "      <th>additive_terms_upper</th>\n",
       "      <th>weekly</th>\n",
       "      <th>weekly_lower</th>\n",
       "      <th>weekly_upper</th>\n",
       "      <th>yearly</th>\n",
       "      <th>yearly_lower</th>\n",
       "      <th>yearly_upper</th>\n",
       "      <th>multiplicative_terms</th>\n",
       "      <th>multiplicative_terms_lower</th>\n",
       "      <th>multiplicative_terms_upper</th>\n",
       "      <th>yhat</th>\n",
       "    </tr>\n",
       "  </thead>\n",
       "  <tbody>\n",
       "    <tr>\n",
       "      <th>0</th>\n",
       "      <td>2008-01-02</td>\n",
       "      <td>16.997032</td>\n",
       "      <td>13.320159</td>\n",
       "      <td>19.354757</td>\n",
       "      <td>16.997032</td>\n",
       "      <td>16.997032</td>\n",
       "      <td>-0.600826</td>\n",
       "      <td>-0.600826</td>\n",
       "      <td>-0.600826</td>\n",
       "      <td>-0.422801</td>\n",
       "      <td>-0.422801</td>\n",
       "      <td>-0.422801</td>\n",
       "      <td>-0.178025</td>\n",
       "      <td>-0.178025</td>\n",
       "      <td>-0.178025</td>\n",
       "      <td>0.0</td>\n",
       "      <td>0.0</td>\n",
       "      <td>0.0</td>\n",
       "      <td>16.396206</td>\n",
       "    </tr>\n",
       "    <tr>\n",
       "      <th>1</th>\n",
       "      <td>2008-01-03</td>\n",
       "      <td>16.997914</td>\n",
       "      <td>13.574617</td>\n",
       "      <td>19.358639</td>\n",
       "      <td>16.997914</td>\n",
       "      <td>16.997914</td>\n",
       "      <td>-0.627085</td>\n",
       "      <td>-0.627085</td>\n",
       "      <td>-0.627085</td>\n",
       "      <td>-0.451701</td>\n",
       "      <td>-0.451701</td>\n",
       "      <td>-0.451701</td>\n",
       "      <td>-0.175384</td>\n",
       "      <td>-0.175384</td>\n",
       "      <td>-0.175384</td>\n",
       "      <td>0.0</td>\n",
       "      <td>0.0</td>\n",
       "      <td>0.0</td>\n",
       "      <td>16.370828</td>\n",
       "    </tr>\n",
       "    <tr>\n",
       "      <th>2</th>\n",
       "      <td>2008-01-04</td>\n",
       "      <td>16.998795</td>\n",
       "      <td>13.356268</td>\n",
       "      <td>19.451831</td>\n",
       "      <td>16.998795</td>\n",
       "      <td>16.998795</td>\n",
       "      <td>-0.623063</td>\n",
       "      <td>-0.623063</td>\n",
       "      <td>-0.623063</td>\n",
       "      <td>-0.451425</td>\n",
       "      <td>-0.451425</td>\n",
       "      <td>-0.451425</td>\n",
       "      <td>-0.171639</td>\n",
       "      <td>-0.171639</td>\n",
       "      <td>-0.171639</td>\n",
       "      <td>0.0</td>\n",
       "      <td>0.0</td>\n",
       "      <td>0.0</td>\n",
       "      <td>16.375732</td>\n",
       "    </tr>\n",
       "    <tr>\n",
       "      <th>3</th>\n",
       "      <td>2008-01-07</td>\n",
       "      <td>17.001441</td>\n",
       "      <td>13.565256</td>\n",
       "      <td>19.458319</td>\n",
       "      <td>17.001441</td>\n",
       "      <td>17.001441</td>\n",
       "      <td>-0.580808</td>\n",
       "      <td>-0.580808</td>\n",
       "      <td>-0.580808</td>\n",
       "      <td>-0.426386</td>\n",
       "      <td>-0.426386</td>\n",
       "      <td>-0.426386</td>\n",
       "      <td>-0.154422</td>\n",
       "      <td>-0.154422</td>\n",
       "      <td>-0.154422</td>\n",
       "      <td>0.0</td>\n",
       "      <td>0.0</td>\n",
       "      <td>0.0</td>\n",
       "      <td>16.420633</td>\n",
       "    </tr>\n",
       "    <tr>\n",
       "      <th>4</th>\n",
       "      <td>2008-01-08</td>\n",
       "      <td>17.002322</td>\n",
       "      <td>13.218276</td>\n",
       "      <td>19.307269</td>\n",
       "      <td>17.002322</td>\n",
       "      <td>17.002322</td>\n",
       "      <td>-0.576939</td>\n",
       "      <td>-0.576939</td>\n",
       "      <td>-0.576939</td>\n",
       "      <td>-0.429889</td>\n",
       "      <td>-0.429889</td>\n",
       "      <td>-0.429889</td>\n",
       "      <td>-0.147050</td>\n",
       "      <td>-0.147050</td>\n",
       "      <td>-0.147050</td>\n",
       "      <td>0.0</td>\n",
       "      <td>0.0</td>\n",
       "      <td>0.0</td>\n",
       "      <td>16.425383</td>\n",
       "    </tr>\n",
       "    <tr>\n",
       "      <th>5</th>\n",
       "      <td>2008-01-09</td>\n",
       "      <td>17.003204</td>\n",
       "      <td>13.551201</td>\n",
       "      <td>19.506766</td>\n",
       "      <td>17.003204</td>\n",
       "      <td>17.003204</td>\n",
       "      <td>-0.561898</td>\n",
       "      <td>-0.561898</td>\n",
       "      <td>-0.561898</td>\n",
       "      <td>-0.422801</td>\n",
       "      <td>-0.422801</td>\n",
       "      <td>-0.422801</td>\n",
       "      <td>-0.139097</td>\n",
       "      <td>-0.139097</td>\n",
       "      <td>-0.139097</td>\n",
       "      <td>0.0</td>\n",
       "      <td>0.0</td>\n",
       "      <td>0.0</td>\n",
       "      <td>16.441306</td>\n",
       "    </tr>\n",
       "    <tr>\n",
       "      <th>6</th>\n",
       "      <td>2008-01-10</td>\n",
       "      <td>17.004086</td>\n",
       "      <td>13.553756</td>\n",
       "      <td>19.519506</td>\n",
       "      <td>17.004086</td>\n",
       "      <td>17.004086</td>\n",
       "      <td>-0.582430</td>\n",
       "      <td>-0.582430</td>\n",
       "      <td>-0.582430</td>\n",
       "      <td>-0.451701</td>\n",
       "      <td>-0.451701</td>\n",
       "      <td>-0.451701</td>\n",
       "      <td>-0.130729</td>\n",
       "      <td>-0.130729</td>\n",
       "      <td>-0.130729</td>\n",
       "      <td>0.0</td>\n",
       "      <td>0.0</td>\n",
       "      <td>0.0</td>\n",
       "      <td>16.421656</td>\n",
       "    </tr>\n",
       "    <tr>\n",
       "      <th>7</th>\n",
       "      <td>2008-01-11</td>\n",
       "      <td>17.004968</td>\n",
       "      <td>13.365020</td>\n",
       "      <td>19.523282</td>\n",
       "      <td>17.004968</td>\n",
       "      <td>17.004968</td>\n",
       "      <td>-0.573539</td>\n",
       "      <td>-0.573539</td>\n",
       "      <td>-0.573539</td>\n",
       "      <td>-0.451425</td>\n",
       "      <td>-0.451425</td>\n",
       "      <td>-0.451425</td>\n",
       "      <td>-0.122114</td>\n",
       "      <td>-0.122114</td>\n",
       "      <td>-0.122114</td>\n",
       "      <td>0.0</td>\n",
       "      <td>0.0</td>\n",
       "      <td>0.0</td>\n",
       "      <td>16.431429</td>\n",
       "    </tr>\n",
       "    <tr>\n",
       "      <th>8</th>\n",
       "      <td>2008-01-14</td>\n",
       "      <td>17.007613</td>\n",
       "      <td>13.448063</td>\n",
       "      <td>19.489139</td>\n",
       "      <td>17.007613</td>\n",
       "      <td>17.007613</td>\n",
       "      <td>-0.522856</td>\n",
       "      <td>-0.522856</td>\n",
       "      <td>-0.522856</td>\n",
       "      <td>-0.426386</td>\n",
       "      <td>-0.426386</td>\n",
       "      <td>-0.426386</td>\n",
       "      <td>-0.096470</td>\n",
       "      <td>-0.096470</td>\n",
       "      <td>-0.096470</td>\n",
       "      <td>0.0</td>\n",
       "      <td>0.0</td>\n",
       "      <td>0.0</td>\n",
       "      <td>16.484757</td>\n",
       "    </tr>\n",
       "    <tr>\n",
       "      <th>9</th>\n",
       "      <td>2008-01-15</td>\n",
       "      <td>17.008495</td>\n",
       "      <td>13.529368</td>\n",
       "      <td>19.453206</td>\n",
       "      <td>17.008495</td>\n",
       "      <td>17.008495</td>\n",
       "      <td>-0.518385</td>\n",
       "      <td>-0.518385</td>\n",
       "      <td>-0.518385</td>\n",
       "      <td>-0.429889</td>\n",
       "      <td>-0.429889</td>\n",
       "      <td>-0.429889</td>\n",
       "      <td>-0.088495</td>\n",
       "      <td>-0.088495</td>\n",
       "      <td>-0.088495</td>\n",
       "      <td>0.0</td>\n",
       "      <td>0.0</td>\n",
       "      <td>0.0</td>\n",
       "      <td>16.490110</td>\n",
       "    </tr>\n",
       "  </tbody>\n",
       "</table>\n",
       "</div>"
      ],
      "text/plain": [
       "          ds      trend  yhat_lower  yhat_upper  trend_lower  trend_upper  \\\n",
       "0 2008-01-02  16.997032   13.320159   19.354757    16.997032    16.997032   \n",
       "1 2008-01-03  16.997914   13.574617   19.358639    16.997914    16.997914   \n",
       "2 2008-01-04  16.998795   13.356268   19.451831    16.998795    16.998795   \n",
       "3 2008-01-07  17.001441   13.565256   19.458319    17.001441    17.001441   \n",
       "4 2008-01-08  17.002322   13.218276   19.307269    17.002322    17.002322   \n",
       "5 2008-01-09  17.003204   13.551201   19.506766    17.003204    17.003204   \n",
       "6 2008-01-10  17.004086   13.553756   19.519506    17.004086    17.004086   \n",
       "7 2008-01-11  17.004968   13.365020   19.523282    17.004968    17.004968   \n",
       "8 2008-01-14  17.007613   13.448063   19.489139    17.007613    17.007613   \n",
       "9 2008-01-15  17.008495   13.529368   19.453206    17.008495    17.008495   \n",
       "\n",
       "   additive_terms  additive_terms_lower  additive_terms_upper    weekly  \\\n",
       "0       -0.600826             -0.600826             -0.600826 -0.422801   \n",
       "1       -0.627085             -0.627085             -0.627085 -0.451701   \n",
       "2       -0.623063             -0.623063             -0.623063 -0.451425   \n",
       "3       -0.580808             -0.580808             -0.580808 -0.426386   \n",
       "4       -0.576939             -0.576939             -0.576939 -0.429889   \n",
       "5       -0.561898             -0.561898             -0.561898 -0.422801   \n",
       "6       -0.582430             -0.582430             -0.582430 -0.451701   \n",
       "7       -0.573539             -0.573539             -0.573539 -0.451425   \n",
       "8       -0.522856             -0.522856             -0.522856 -0.426386   \n",
       "9       -0.518385             -0.518385             -0.518385 -0.429889   \n",
       "\n",
       "   weekly_lower  weekly_upper    yearly  yearly_lower  yearly_upper  \\\n",
       "0     -0.422801     -0.422801 -0.178025     -0.178025     -0.178025   \n",
       "1     -0.451701     -0.451701 -0.175384     -0.175384     -0.175384   \n",
       "2     -0.451425     -0.451425 -0.171639     -0.171639     -0.171639   \n",
       "3     -0.426386     -0.426386 -0.154422     -0.154422     -0.154422   \n",
       "4     -0.429889     -0.429889 -0.147050     -0.147050     -0.147050   \n",
       "5     -0.422801     -0.422801 -0.139097     -0.139097     -0.139097   \n",
       "6     -0.451701     -0.451701 -0.130729     -0.130729     -0.130729   \n",
       "7     -0.451425     -0.451425 -0.122114     -0.122114     -0.122114   \n",
       "8     -0.426386     -0.426386 -0.096470     -0.096470     -0.096470   \n",
       "9     -0.429889     -0.429889 -0.088495     -0.088495     -0.088495   \n",
       "\n",
       "   multiplicative_terms  multiplicative_terms_lower  \\\n",
       "0                   0.0                         0.0   \n",
       "1                   0.0                         0.0   \n",
       "2                   0.0                         0.0   \n",
       "3                   0.0                         0.0   \n",
       "4                   0.0                         0.0   \n",
       "5                   0.0                         0.0   \n",
       "6                   0.0                         0.0   \n",
       "7                   0.0                         0.0   \n",
       "8                   0.0                         0.0   \n",
       "9                   0.0                         0.0   \n",
       "\n",
       "   multiplicative_terms_upper       yhat  \n",
       "0                         0.0  16.396206  \n",
       "1                         0.0  16.370828  \n",
       "2                         0.0  16.375732  \n",
       "3                         0.0  16.420633  \n",
       "4                         0.0  16.425383  \n",
       "5                         0.0  16.441306  \n",
       "6                         0.0  16.421656  \n",
       "7                         0.0  16.431429  \n",
       "8                         0.0  16.484757  \n",
       "9                         0.0  16.490110  "
      ]
     },
     "execution_count": 46,
     "metadata": {},
     "output_type": "execute_result"
    }
   ],
   "source": [
    "##Using our built model \"model2\" to predict the future one-year ahead\n",
    "forecast2 = model2.predict(df_future)\n",
    "forecast2.head(10)"
   ]
  },
  {
   "cell_type": "code",
   "execution_count": 47,
   "metadata": {},
   "outputs": [],
   "source": [
    "prediction2 = forecast2.copy()\n",
    "prediction2.index = pd.DatetimeIndex(prediction2.ds)"
   ]
  },
  {
   "cell_type": "code",
   "execution_count": 48,
   "metadata": {},
   "outputs": [
    {
     "data": {
      "text/plain": [
       "<matplotlib.axes._subplots.AxesSubplot at 0x7fec015d1550>"
      ]
     },
     "execution_count": 48,
     "metadata": {},
     "output_type": "execute_result"
    },
    {
     "data": {
      "image/png": "[encoded data removed]",
      "text/plain": [
       "<Figure size 1440x360 with 1 Axes>"
      ]
     },
     "metadata": {
      "needs_background": "light"
     },
     "output_type": "display_data"
    }
   ],
   "source": [
    "df_fbp.plot(figsize=(20,5))\n",
    "prediction2.yhat.plot(color='g')"
   ]
  },
  {
   "cell_type": "markdown",
   "metadata": {},
   "source": [
    "**xgboost:**\n",
    "Using the in-built aws xgboost is quite an easy and fast approach. The XGBoost is mainly used for supervised and regression learnings, however, it is also known for its robust performance across all Machine Learning situations, and we would see how it performs in this time series prediction.\n",
    "\n",
    "XGBoost is a special type of Gradient Boosting designed to be efficient and scalable. It is an assemble of Decision Trees, where new Trees fix errors of previous Trees already part of the model, and Trees are added until there are no further improvements able to be made to the model. Although this algorithm is mainly for Tabular data, it can also handle Time Series data"
   ]
  },
  {
   "cell_type": "code",
   "execution_count": 49,
   "metadata": {},
   "outputs": [
    {
     "data": {
      "text/html": [
       "<div>\n",
       "<style scoped>\n",
       "    .dataframe tbody tr th:only-of-type {\n",
       "        vertical-align: middle;\n",
       "    }\n",
       "\n",
       "    .dataframe tbody tr th {\n",
       "        vertical-align: top;\n",
       "    }\n",
       "\n",
       "    .dataframe thead th {\n",
       "        text-align: right;\n",
       "    }\n",
       "</style>\n",
       "<table border=\"1\" class=\"dataframe\">\n",
       "  <thead>\n",
       "    <tr style=\"text-align: right;\">\n",
       "      <th></th>\n",
       "      <th>Adj Close</th>\n",
       "    </tr>\n",
       "    <tr>\n",
       "      <th>Date</th>\n",
       "      <th></th>\n",
       "    </tr>\n",
       "  </thead>\n",
       "  <tbody>\n",
       "    <tr>\n",
       "      <th>2008-01-02</th>\n",
       "      <td>19.255461</td>\n",
       "    </tr>\n",
       "    <tr>\n",
       "      <th>2008-01-03</th>\n",
       "      <td>19.786291</td>\n",
       "    </tr>\n",
       "    <tr>\n",
       "      <th>2008-01-04</th>\n",
       "      <td>18.861618</td>\n",
       "    </tr>\n",
       "    <tr>\n",
       "      <th>2008-01-07</th>\n",
       "      <td>19.049978</td>\n",
       "    </tr>\n",
       "    <tr>\n",
       "      <th>2008-01-08</th>\n",
       "      <td>18.108183</td>\n",
       "    </tr>\n",
       "    <tr>\n",
       "      <th>...</th>\n",
       "      <td>...</td>\n",
       "    </tr>\n",
       "    <tr>\n",
       "      <th>2020-12-24</th>\n",
       "      <td>64.712372</td>\n",
       "    </tr>\n",
       "    <tr>\n",
       "      <th>2020-12-28</th>\n",
       "      <td>64.622719</td>\n",
       "    </tr>\n",
       "    <tr>\n",
       "      <th>2020-12-29</th>\n",
       "      <td>64.214279</td>\n",
       "    </tr>\n",
       "    <tr>\n",
       "      <th>2020-12-30</th>\n",
       "      <td>64.154510</td>\n",
       "    </tr>\n",
       "    <tr>\n",
       "      <th>2020-12-31</th>\n",
       "      <td>64.443405</td>\n",
       "    </tr>\n",
       "  </tbody>\n",
       "</table>\n",
       "<p>3274 rows × 1 columns</p>\n",
       "</div>"
      ],
      "text/plain": [
       "            Adj Close\n",
       "Date                 \n",
       "2008-01-02  19.255461\n",
       "2008-01-03  19.786291\n",
       "2008-01-04  18.861618\n",
       "2008-01-07  19.049978\n",
       "2008-01-08  18.108183\n",
       "...               ...\n",
       "2020-12-24  64.712372\n",
       "2020-12-28  64.622719\n",
       "2020-12-29  64.214279\n",
       "2020-12-30  64.154510\n",
       "2020-12-31  64.443405\n",
       "\n",
       "[3274 rows x 1 columns]"
      ]
     },
     "execution_count": 49,
     "metadata": {},
     "output_type": "execute_result"
    }
   ],
   "source": [
    "df"
   ]
  },
  {
   "cell_type": "code",
   "execution_count": 50,
   "metadata": {},
   "outputs": [],
   "source": [
    "df_xgb = df.copy()"
   ]
  },
  {
   "cell_type": "code",
   "execution_count": null,
   "metadata": {},
   "outputs": [],
   "source": []
  },
  {
   "cell_type": "code",
   "execution_count": 51,
   "metadata": {},
   "outputs": [],
   "source": [
    "##create a target column named 'y'\n",
    "df_xgb['y'] = df_xgb['Adj Close'].shift(-1)"
   ]
  },
  {
   "cell_type": "code",
   "execution_count": 52,
   "metadata": {},
   "outputs": [],
   "source": [
    "##using the forwrd fill method to fill for null values\n",
    "df_xgb = df_xgb.fillna(method='ffill')"
   ]
  },
  {
   "cell_type": "code",
   "execution_count": 53,
   "metadata": {},
   "outputs": [
    {
     "data": {
      "text/plain": [
       "Adj Close    0\n",
       "y            0\n",
       "dtype: int64"
      ]
     },
     "execution_count": 53,
     "metadata": {},
     "output_type": "execute_result"
    }
   ],
   "source": [
    "##checking for null values\n",
    "df_xgb.isna().sum()"
   ]
  },
  {
   "cell_type": "code",
   "execution_count": 54,
   "metadata": {},
   "outputs": [
    {
     "data": {
      "text/html": [
       "<div>\n",
       "<style scoped>\n",
       "    .dataframe tbody tr th:only-of-type {\n",
       "        vertical-align: middle;\n",
       "    }\n",
       "\n",
       "    .dataframe tbody tr th {\n",
       "        vertical-align: top;\n",
       "    }\n",
       "\n",
       "    .dataframe thead th {\n",
       "        text-align: right;\n",
       "    }\n",
       "</style>\n",
       "<table border=\"1\" class=\"dataframe\">\n",
       "  <thead>\n",
       "    <tr style=\"text-align: right;\">\n",
       "      <th></th>\n",
       "      <th>Adj Close</th>\n",
       "      <th>y</th>\n",
       "    </tr>\n",
       "    <tr>\n",
       "      <th>Date</th>\n",
       "      <th></th>\n",
       "      <th></th>\n",
       "    </tr>\n",
       "  </thead>\n",
       "  <tbody>\n",
       "    <tr>\n",
       "      <th>2008-01-02</th>\n",
       "      <td>19.255461</td>\n",
       "      <td>19.786291</td>\n",
       "    </tr>\n",
       "    <tr>\n",
       "      <th>2008-01-03</th>\n",
       "      <td>19.786291</td>\n",
       "      <td>18.861618</td>\n",
       "    </tr>\n",
       "    <tr>\n",
       "      <th>2008-01-04</th>\n",
       "      <td>18.861618</td>\n",
       "      <td>19.049978</td>\n",
       "    </tr>\n",
       "    <tr>\n",
       "      <th>2008-01-07</th>\n",
       "      <td>19.049978</td>\n",
       "      <td>18.108183</td>\n",
       "    </tr>\n",
       "    <tr>\n",
       "      <th>2008-01-08</th>\n",
       "      <td>18.108183</td>\n",
       "      <td>18.502026</td>\n",
       "    </tr>\n",
       "    <tr>\n",
       "      <th>2008-01-09</th>\n",
       "      <td>18.502026</td>\n",
       "      <td>18.561954</td>\n",
       "    </tr>\n",
       "    <tr>\n",
       "      <th>2008-01-10</th>\n",
       "      <td>18.561954</td>\n",
       "      <td>18.065376</td>\n",
       "    </tr>\n",
       "    <tr>\n",
       "      <th>2008-01-11</th>\n",
       "      <td>18.065376</td>\n",
       "      <td>18.887299</td>\n",
       "    </tr>\n",
       "    <tr>\n",
       "      <th>2008-01-14</th>\n",
       "      <td>18.887299</td>\n",
       "      <td>18.245174</td>\n",
       "    </tr>\n",
       "    <tr>\n",
       "      <th>2008-01-15</th>\n",
       "      <td>18.245174</td>\n",
       "      <td>18.767443</td>\n",
       "    </tr>\n",
       "  </tbody>\n",
       "</table>\n",
       "</div>"
      ],
      "text/plain": [
       "            Adj Close          y\n",
       "Date                            \n",
       "2008-01-02  19.255461  19.786291\n",
       "2008-01-03  19.786291  18.861618\n",
       "2008-01-04  18.861618  19.049978\n",
       "2008-01-07  19.049978  18.108183\n",
       "2008-01-08  18.108183  18.502026\n",
       "2008-01-09  18.502026  18.561954\n",
       "2008-01-10  18.561954  18.065376\n",
       "2008-01-11  18.065376  18.887299\n",
       "2008-01-14  18.887299  18.245174\n",
       "2008-01-15  18.245174  18.767443"
      ]
     },
     "execution_count": 54,
     "metadata": {},
     "output_type": "execute_result"
    }
   ],
   "source": [
    "df_xgb.head(10)"
   ]
  },
  {
   "cell_type": "code",
   "execution_count": null,
   "metadata": {},
   "outputs": [],
   "source": []
  },
  {
   "cell_type": "code",
   "execution_count": 55,
   "metadata": {},
   "outputs": [],
   "source": [
    "y = df_xgb.drop(['Adj Close'], axis=1)\n",
    "X = df_xgb.drop(['y'], axis=1)"
   ]
  },
  {
   "cell_type": "code",
   "execution_count": 56,
   "metadata": {},
   "outputs": [],
   "source": [
    "##the data is split into train-test groups\n",
    "X_train, X_test, Y_train, Y_test = train_test_split(X, y, test_size=0.33)"
   ]
  },
  {
   "cell_type": "code",
   "execution_count": 57,
   "metadata": {},
   "outputs": [],
   "source": [
    "##an extra data group is created for validation\n",
    "X_train, X_val, Y_train, Y_val = train_test_split(X_train, Y_train, test_size=0.33)"
   ]
  },
  {
   "cell_type": "markdown",
   "metadata": {},
   "source": [
    "# Uploading Data to S3\n",
    "> Since the XGBoost in-uilt algorithm is used, the data has to be uploaded to AWS S3"
   ]
  },
  {
   "cell_type": "code",
   "execution_count": 58,
   "metadata": {},
   "outputs": [],
   "source": [
    "#import all necessary libraries for aws sagemaker\n",
    "\n",
    "import sagemaker\n",
    "from sagemaker import get_execution_role\n",
    "from sagemaker.amazon.amazon_estimator import get_image_uri\n",
    "from sagemaker.predictor import csv_serializer\n",
    "from sagemaker.xgboost.estimator import XGBoost"
   ]
  },
  {
   "cell_type": "code",
   "execution_count": null,
   "metadata": {},
   "outputs": [],
   "source": []
  },
  {
   "cell_type": "code",
   "execution_count": null,
   "metadata": {},
   "outputs": [],
   "source": []
  },
  {
   "cell_type": "code",
   "execution_count": 59,
   "metadata": {},
   "outputs": [],
   "source": [
    "# This is our local data directory. We need to make sure that it exists.\n",
    "data_dir = 'stock_xgb_data'\n",
    "if not os.path.exists(data_dir):\n",
    "    os.makedirs(data_dir)"
   ]
  },
  {
   "cell_type": "code",
   "execution_count": 60,
   "metadata": {},
   "outputs": [],
   "source": [
    "# We use pandas to save our test, train and validation data to csv files. Note that we make sure not to include header\n",
    "# information or an index as this is required by the built in algorithms provided by Amazon. Also, for the train and\n",
    "# validation data, it is assumed that the first entry in each row is the target variable.\n",
    "\n",
    "X_test.to_csv(os.path.join(data_dir, 'test.csv'), header=False, index=False)\n",
    "\n",
    "pd.concat([Y_val, X_val], axis=1).to_csv(os.path.join(data_dir, 'validation.csv'), header=False, index=False)\n",
    "pd.concat([Y_train, X_train], axis=1).to_csv(os.path.join(data_dir, 'train.csv'), header=False, index=False)"
   ]
  },
  {
   "cell_type": "code",
   "execution_count": 61,
   "metadata": {},
   "outputs": [],
   "source": [
    "sagemaker_session = sagemaker.Session()\n",
    "role = sagemaker.get_execution_role()\n",
    "bucket = sagemaker_session.default_bucket()\n"
   ]
  },
  {
   "cell_type": "code",
   "execution_count": 62,
   "metadata": {},
   "outputs": [],
   "source": [
    "prefix='XGB_Stock_prediction'\n",
    "\n",
    "test_location = sagemaker_session.upload_data(os.path.join(data_dir, 'test.csv'), key_prefix=prefix)\n",
    "val_location = sagemaker_session.upload_data(os.path.join(data_dir, 'validation.csv'), key_prefix=prefix)\n",
    "train_location = sagemaker_session.upload_data(os.path.join(data_dir, 'train.csv'), key_prefix=prefix)"
   ]
  },
  {
   "cell_type": "code",
   "execution_count": null,
   "metadata": {},
   "outputs": [],
   "source": []
  },
  {
   "cell_type": "markdown",
   "metadata": {},
   "source": [
    "# Building and Training the model\n",
    "\n",
    "> I would like to use the aws hyperparameter tuning for better results. "
   ]
  },
  {
   "cell_type": "code",
   "execution_count": 63,
   "metadata": {},
   "outputs": [
    {
     "name": "stderr",
     "output_type": "stream",
     "text": [
      "WARNING:sagemaker.deprecations:The method get_image_uri has been renamed in sagemaker>=2.\n",
      "See: https://sagemaker.readthedocs.io/en/stable/v2.html for details.\n",
      "INFO:sagemaker.image_uris:Same images used for training and inference. Defaulting to image scope: inference.\n",
      "INFO:sagemaker.image_uris:Ignoring unnecessary instance type: None.\n",
      "WARNING:sagemaker.deprecations:train_instance_count has been renamed in sagemaker>=2.\n",
      "See: https://sagemaker.readthedocs.io/en/stable/v2.html for details.\n",
      "WARNING:sagemaker.deprecations:train_instance_type has been renamed in sagemaker>=2.\n",
      "See: https://sagemaker.readthedocs.io/en/stable/v2.html for details.\n"
     ]
    }
   ],
   "source": [
    "# As stated above, we use this utility method to construct the image name for the training container.\n",
    "container = get_image_uri(sagemaker_session.boto_region_name, 'xgboost','1.2-1')\n",
    "\n",
    "# Now that we know which container to use, we can construct the estimator object.\n",
    "xgb = sagemaker.estimator.Estimator(container, # The image name of the training container\n",
    "                                    role,      # The IAM role to use (our current role in this case)\n",
    "                                    train_instance_count=1, # The number of instances to use for training\n",
    "                                    train_instance_type='ml.m4.xlarge', # The type of instance to use for training\n",
    "                                    output_path='s3://{}/{}/output'.format(sagemaker_session.default_bucket(), prefix),\n",
    "                                                                        # Where to save the output (the model artifacts)\n",
    "                                    sagemaker_session=sagemaker_session) # The current SageMaker session"
   ]
  },
  {
   "cell_type": "code",
   "execution_count": 64,
   "metadata": {},
   "outputs": [],
   "source": [
    "xgb.set_hyperparameters(max_depth=5,\n",
    "                        eta=0.2,\n",
    "                        gamma=4,\n",
    "                        min_child_weight=6,\n",
    "                        subsample=0.8,\n",
    "                        objective='reg:squarederror',\n",
    "                        early_stopping_rounds=20,\n",
    "                        num_round=500)"
   ]
  },
  {
   "cell_type": "code",
   "execution_count": 65,
   "metadata": {},
   "outputs": [],
   "source": [
    "# This is a wrapper around the location of our train and validation data, to make sure that SageMaker\n",
    "# knows our data is in csv format.\n",
    "s3_input_train = sagemaker.TrainingInput(s3_data=train_location, content_type='csv')\n",
    "s3_input_validation = sagemaker.TrainingInput(s3_data=val_location, content_type='csv')"
   ]
  },
  {
   "cell_type": "code",
   "execution_count": 66,
   "metadata": {},
   "outputs": [
    {
     "name": "stderr",
     "output_type": "stream",
     "text": [
      "INFO:sagemaker.image_uris:Defaulting to the only supported framework/algorithm version: latest.\n",
      "INFO:sagemaker.image_uris:Ignoring unnecessary instance type: None.\n",
      "INFO:sagemaker:Creating training-job with name: sagemaker-xgboost-2021-02-23-10-37-45-567\n"
     ]
    },
    {
     "name": "stdout",
     "output_type": "stream",
     "text": [
      "2021-02-23 10:37:45 Starting - Starting the training job...\n",
      "2021-02-23 10:38:08 Starting - Launching requested ML instancesProfilerReport-1614076665: InProgress\n",
      "......\n",
      "2021-02-23 10:39:09 Starting - Preparing the instances for training......\n",
      "2021-02-23 10:40:16 Downloading - Downloading input data...\n",
      "2021-02-23 10:40:31 Training - Downloading the training image...\n",
      "2021-02-23 10:41:17 Uploading - Uploading generated training model.\u001b[34mINFO:sagemaker-containers:Imported framework sagemaker_xgboost_container.training\u001b[0m\n",
      "\u001b[34mINFO:sagemaker-containers:Failed to parse hyperparameter objective value reg:squarederror to Json.\u001b[0m\n",
      "\u001b[34mReturning the value itself\u001b[0m\n",
      "\u001b[34mINFO:sagemaker-containers:No GPUs detected (normal if no gpus installed)\u001b[0m\n",
      "\u001b[34mINFO:sagemaker_xgboost_container.training:Running XGBoost Sagemaker in algorithm mode\u001b[0m\n",
      "\u001b[34mINFO:root:Determined delimiter of CSV input is ','\u001b[0m\n",
      "\u001b[34mINFO:root:Determined delimiter of CSV input is ','\u001b[0m\n",
      "\u001b[34mINFO:root:Determined delimiter of CSV input is ','\u001b[0m\n",
      "\u001b[34mINFO:root:Determined delimiter of CSV input is ','\u001b[0m\n",
      "\u001b[34mINFO:root:Single node training.\u001b[0m\n",
      "\u001b[34mINFO:root:Train matrix has 1469 rows\u001b[0m\n",
      "\u001b[34mINFO:root:Validation matrix has 724 rows\u001b[0m\n",
      "\u001b[34m[10:41:14] WARNING: ../src/learner.cc:516: \u001b[0m\n",
      "\u001b[34mParameters: { early_stopping_rounds } might not be used.\n",
      "\n",
      "  This may not be accurate due to some parameters are only used in language bindings but\n",
      "  passed down to XGBoost core.  Or some parameters are not used but slip through this\n",
      "  verification. Please open an issue if you find above cases.\n",
      "\n",
      "\u001b[0m\n",
      "\u001b[34m[0]#011train-rmse:28.97664#011validation-rmse:28.59577\u001b[0m\n",
      "\u001b[34m[1]#011train-rmse:23.24764#011validation-rmse:22.94969\u001b[0m\n",
      "\u001b[34m[2]#011train-rmse:18.64857#011validation-rmse:18.41544\u001b[0m\n",
      "\u001b[34m[3]#011train-rmse:14.96196#011validation-rmse:14.78100\u001b[0m\n",
      "\u001b[34m[4]#011train-rmse:12.00653#011validation-rmse:11.87900\u001b[0m\n",
      "\u001b[34m[5]#011train-rmse:9.63902#011validation-rmse:9.54955\u001b[0m\n",
      "\u001b[34m[6]#011train-rmse:7.75195#011validation-rmse:7.69487\u001b[0m\n",
      "\u001b[34m[7]#011train-rmse:6.22744#011validation-rmse:6.19239\u001b[0m\n",
      "\u001b[34m[8]#011train-rmse:5.01558#011validation-rmse:4.99597\u001b[0m\n",
      "\u001b[34m[9]#011train-rmse:4.04130#011validation-rmse:4.03787\u001b[0m\n",
      "\u001b[34m[10]#011train-rmse:3.26630#011validation-rmse:3.27057\u001b[0m\n",
      "\u001b[34m[11]#011train-rmse:2.65000#011validation-rmse:2.66443\u001b[0m\n",
      "\u001b[34m[12]#011train-rmse:2.16255#011validation-rmse:2.18633\u001b[0m\n",
      "\u001b[34m[13]#011train-rmse:1.77040#011validation-rmse:1.80106\u001b[0m\n",
      "\u001b[34m[14]#011train-rmse:1.46436#011validation-rmse:1.50171\u001b[0m\n",
      "\u001b[34m[15]#011train-rmse:1.22463#011validation-rmse:1.26876\u001b[0m\n",
      "\u001b[34m[16]#011train-rmse:1.04155#011validation-rmse:1.08970\u001b[0m\n",
      "\u001b[34m[17]#011train-rmse:0.90434#011validation-rmse:0.95886\u001b[0m\n",
      "\u001b[34m[18]#011train-rmse:0.80122#011validation-rmse:0.85982\u001b[0m\n",
      "\u001b[34m[19]#011train-rmse:0.72844#011validation-rmse:0.78878\u001b[0m\n",
      "\u001b[34m[20]#011train-rmse:0.67596#011validation-rmse:0.73775\u001b[0m\n",
      "\u001b[34m[21]#011train-rmse:0.64378#011validation-rmse:0.70655\u001b[0m\n",
      "\u001b[34m[22]#011train-rmse:0.62322#011validation-rmse:0.68578\u001b[0m\n",
      "\u001b[34m[23]#011train-rmse:0.60797#011validation-rmse:0.66856\u001b[0m\n",
      "\u001b[34m[24]#011train-rmse:0.59520#011validation-rmse:0.65572\u001b[0m\n",
      "\u001b[34m[25]#011train-rmse:0.58831#011validation-rmse:0.64777\u001b[0m\n",
      "\u001b[34m[26]#011train-rmse:0.58334#011validation-rmse:0.64304\u001b[0m\n",
      "\u001b[34m[27]#011train-rmse:0.58019#011validation-rmse:0.63930\u001b[0m\n",
      "\u001b[34m[28]#011train-rmse:0.57848#011validation-rmse:0.63704\u001b[0m\n",
      "\u001b[34m[29]#011train-rmse:0.57749#011validation-rmse:0.63560\u001b[0m\n",
      "\u001b[34m[30]#011train-rmse:0.57687#011validation-rmse:0.63461\u001b[0m\n",
      "\u001b[34m[31]#011train-rmse:0.57656#011validation-rmse:0.63407\u001b[0m\n",
      "\u001b[34m[32]#011train-rmse:0.57640#011validation-rmse:0.63376\u001b[0m\n",
      "\u001b[34m[33]#011train-rmse:0.57296#011validation-rmse:0.62926\u001b[0m\n",
      "\u001b[34m[34]#011train-rmse:0.57036#011validation-rmse:0.62913\u001b[0m\n",
      "\u001b[34m[35]#011train-rmse:0.57034#011validation-rmse:0.62906\u001b[0m\n",
      "\u001b[34m[36]#011train-rmse:0.57030#011validation-rmse:0.62894\u001b[0m\n",
      "\u001b[34m[37]#011train-rmse:0.56837#011validation-rmse:0.62901\u001b[0m\n",
      "\u001b[34m[38]#011train-rmse:0.56833#011validation-rmse:0.62881\u001b[0m\n",
      "\u001b[34m[39]#011train-rmse:0.56831#011validation-rmse:0.62862\u001b[0m\n",
      "\u001b[34m[40]#011train-rmse:0.56831#011validation-rmse:0.62859\u001b[0m\n",
      "\u001b[34m[41]#011train-rmse:0.56771#011validation-rmse:0.62752\u001b[0m\n",
      "\u001b[34m[42]#011train-rmse:0.56608#011validation-rmse:0.62746\u001b[0m\n",
      "\u001b[34m[43]#011train-rmse:0.56608#011validation-rmse:0.62744\u001b[0m\n",
      "\u001b[34m[44]#011train-rmse:0.56608#011validation-rmse:0.62741\u001b[0m\n",
      "\u001b[34m[45]#011train-rmse:0.56608#011validation-rmse:0.62737\u001b[0m\n",
      "\u001b[34m[46]#011train-rmse:0.56608#011validation-rmse:0.62739\u001b[0m\n",
      "\u001b[34m[47]#011train-rmse:0.56609#011validation-rmse:0.62730\u001b[0m\n",
      "\u001b[34m[48]#011train-rmse:0.56608#011validation-rmse:0.62732\u001b[0m\n",
      "\u001b[34m[49]#011train-rmse:0.56608#011validation-rmse:0.62745\u001b[0m\n",
      "\u001b[34m[50]#011train-rmse:0.56608#011validation-rmse:0.62754\u001b[0m\n",
      "\u001b[34m[51]#011train-rmse:0.56608#011validation-rmse:0.62755\u001b[0m\n",
      "\u001b[34m[52]#011train-rmse:0.56470#011validation-rmse:0.62587\u001b[0m\n",
      "\u001b[34m[53]#011train-rmse:0.56380#011validation-rmse:0.62565\u001b[0m\n",
      "\u001b[34m[54]#011train-rmse:0.56380#011validation-rmse:0.62564\u001b[0m\n",
      "\u001b[34m[55]#011train-rmse:0.56381#011validation-rmse:0.62568\u001b[0m\n",
      "\u001b[34m[56]#011train-rmse:0.56381#011validation-rmse:0.62569\u001b[0m\n",
      "\u001b[34m[57]#011train-rmse:0.56380#011validation-rmse:0.62560\u001b[0m\n",
      "\u001b[34m[58]#011train-rmse:0.56379#011validation-rmse:0.62553\u001b[0m\n",
      "\u001b[34m[59]#011train-rmse:0.56379#011validation-rmse:0.62548\u001b[0m\n",
      "\u001b[34m[60]#011train-rmse:0.56379#011validation-rmse:0.62556\u001b[0m\n",
      "\u001b[34m[61]#011train-rmse:0.56379#011validation-rmse:0.62549\u001b[0m\n",
      "\u001b[34m[62]#011train-rmse:0.56380#011validation-rmse:0.62556\u001b[0m\n",
      "\u001b[34m[63]#011train-rmse:0.56379#011validation-rmse:0.62546\u001b[0m\n",
      "\u001b[34m[64]#011train-rmse:0.56379#011validation-rmse:0.62553\u001b[0m\n",
      "\u001b[34m[65]#011train-rmse:0.56380#011validation-rmse:0.62556\u001b[0m\n",
      "\u001b[34m[66]#011train-rmse:0.56379#011validation-rmse:0.62551\u001b[0m\n",
      "\u001b[34m[67]#011train-rmse:0.56379#011validation-rmse:0.62545\u001b[0m\n",
      "\u001b[34m[68]#011train-rmse:0.56379#011validation-rmse:0.62548\u001b[0m\n",
      "\u001b[34m[69]#011train-rmse:0.56379#011validation-rmse:0.62543\u001b[0m\n",
      "\u001b[34m[70]#011train-rmse:0.56381#011validation-rmse:0.62531\u001b[0m\n",
      "\u001b[34m[71]#011train-rmse:0.56380#011validation-rmse:0.62540\u001b[0m\n",
      "\u001b[34m[72]#011train-rmse:0.56380#011validation-rmse:0.62540\u001b[0m\n",
      "\u001b[34m[73]#011train-rmse:0.56379#011validation-rmse:0.62544\u001b[0m\n",
      "\u001b[34m[74]#011train-rmse:0.56381#011validation-rmse:0.62531\u001b[0m\n",
      "\u001b[34m[75]#011train-rmse:0.56379#011validation-rmse:0.62545\u001b[0m\n",
      "\u001b[34m[76]#011train-rmse:0.56380#011validation-rmse:0.62535\u001b[0m\n",
      "\u001b[34m[77]#011train-rmse:0.56380#011validation-rmse:0.62539\u001b[0m\n",
      "\u001b[34m[78]#011train-rmse:0.56380#011validation-rmse:0.62540\u001b[0m\n",
      "\u001b[34m[79]#011train-rmse:0.56380#011validation-rmse:0.62540\u001b[0m\n",
      "\u001b[34m[80]#011train-rmse:0.56379#011validation-rmse:0.62553\u001b[0m\n",
      "\u001b[34m[81]#011train-rmse:0.56379#011validation-rmse:0.62551\u001b[0m\n",
      "\u001b[34m[82]#011train-rmse:0.56379#011validation-rmse:0.62549\u001b[0m\n",
      "\u001b[34m[83]#011train-rmse:0.56379#011validation-rmse:0.62547\u001b[0m\n",
      "\u001b[34m[84]#011train-rmse:0.56380#011validation-rmse:0.62557\u001b[0m\n",
      "\u001b[34m[85]#011train-rmse:0.56241#011validation-rmse:0.62499\u001b[0m\n",
      "\u001b[34m[86]#011train-rmse:0.56241#011validation-rmse:0.62499\u001b[0m\n",
      "\u001b[34m[87]#011train-rmse:0.56241#011validation-rmse:0.62491\u001b[0m\n",
      "\u001b[34m[88]#011train-rmse:0.56241#011validation-rmse:0.62485\u001b[0m\n",
      "\u001b[34m[89]#011train-rmse:0.56241#011validation-rmse:0.62482\u001b[0m\n",
      "\u001b[34m[90]#011train-rmse:0.56241#011validation-rmse:0.62493\u001b[0m\n",
      "\u001b[34m[91]#011train-rmse:0.56124#011validation-rmse:0.62332\u001b[0m\n",
      "\u001b[34m[92]#011train-rmse:0.56124#011validation-rmse:0.62339\u001b[0m\n",
      "\u001b[34m[93]#011train-rmse:0.56125#011validation-rmse:0.62340\u001b[0m\n",
      "\u001b[34m[94]#011train-rmse:0.56003#011validation-rmse:0.62298\u001b[0m\n",
      "\u001b[34m[95]#011train-rmse:0.56004#011validation-rmse:0.62308\u001b[0m\n",
      "\u001b[34m[96]#011train-rmse:0.56002#011validation-rmse:0.62291\u001b[0m\n",
      "\u001b[34m[97]#011train-rmse:0.56002#011validation-rmse:0.62292\u001b[0m\n",
      "\u001b[34m[98]#011train-rmse:0.56003#011validation-rmse:0.62303\u001b[0m\n",
      "\u001b[34m[99]#011train-rmse:0.56003#011validation-rmse:0.62307\u001b[0m\n",
      "\u001b[34m[100]#011train-rmse:0.56004#011validation-rmse:0.62312\u001b[0m\n",
      "\u001b[34m[101]#011train-rmse:0.56005#011validation-rmse:0.62316\u001b[0m\n",
      "\u001b[34m[102]#011train-rmse:0.55782#011validation-rmse:0.62203\u001b[0m\n",
      "\u001b[34m[103]#011train-rmse:0.55782#011validation-rmse:0.62203\u001b[0m\n",
      "\u001b[34m[104]#011train-rmse:0.55780#011validation-rmse:0.62190\u001b[0m\n",
      "\u001b[34m[105]#011train-rmse:0.55780#011validation-rmse:0.62182\u001b[0m\n",
      "\u001b[34m[106]#011train-rmse:0.55780#011validation-rmse:0.62172\u001b[0m\n",
      "\u001b[34m[107]#011train-rmse:0.55780#011validation-rmse:0.62166\u001b[0m\n",
      "\u001b[34m[108]#011train-rmse:0.55780#011validation-rmse:0.62168\u001b[0m\n",
      "\u001b[34m[109]#011train-rmse:0.55781#011validation-rmse:0.62165\u001b[0m\n",
      "\u001b[34m[110]#011train-rmse:0.55780#011validation-rmse:0.62183\u001b[0m\n",
      "\u001b[34m[111]#011train-rmse:0.55780#011validation-rmse:0.62185\u001b[0m\n",
      "\u001b[34m[112]#011train-rmse:0.55728#011validation-rmse:0.62184\u001b[0m\n",
      "\u001b[34m[113]#011train-rmse:0.55728#011validation-rmse:0.62190\u001b[0m\n",
      "\u001b[34m[114]#011train-rmse:0.55728#011validation-rmse:0.62183\u001b[0m\n",
      "\u001b[34m[115]#011train-rmse:0.55728#011validation-rmse:0.62182\u001b[0m\n",
      "\u001b[34m[116]#011train-rmse:0.55728#011validation-rmse:0.62187\u001b[0m\n",
      "\u001b[34m[117]#011train-rmse:0.55728#011validation-rmse:0.62176\u001b[0m\n",
      "\u001b[34m[118]#011train-rmse:0.55728#011validation-rmse:0.62178\u001b[0m\n",
      "\u001b[34m[119]#011train-rmse:0.55728#011validation-rmse:0.62182\u001b[0m\n",
      "\u001b[34m[120]#011train-rmse:0.55728#011validation-rmse:0.62186\u001b[0m\n",
      "\u001b[34m[121]#011train-rmse:0.55728#011validation-rmse:0.62185\u001b[0m\n",
      "\u001b[34m[122]#011train-rmse:0.55728#011validation-rmse:0.62190\u001b[0m\n",
      "\u001b[34m[123]#011train-rmse:0.55641#011validation-rmse:0.62230\u001b[0m\n",
      "\u001b[34m[124]#011train-rmse:0.55641#011validation-rmse:0.62230\u001b[0m\n",
      "\u001b[34m[125]#011train-rmse:0.55641#011validation-rmse:0.62232\u001b[0m\n",
      "\u001b[34m[126]#011train-rmse:0.55641#011validation-rmse:0.62226\u001b[0m\n",
      "\u001b[34m[127]#011train-rmse:0.55641#011validation-rmse:0.62231\u001b[0m\n",
      "\u001b[34m[128]#011train-rmse:0.55642#011validation-rmse:0.62222\u001b[0m\n",
      "\u001b[34m[129]#011train-rmse:0.55642#011validation-rmse:0.62221\u001b[0m\n",
      "\n",
      "2021-02-23 10:41:31 Completed - Training job completed\n",
      "Training seconds: 70\n",
      "Billable seconds: 70\n"
     ]
    }
   ],
   "source": [
    "xgb.fit({'train': s3_input_train, 'validation': s3_input_validation})"
   ]
  },
  {
   "cell_type": "code",
   "execution_count": 67,
   "metadata": {},
   "outputs": [
    {
     "name": "stderr",
     "output_type": "stream",
     "text": [
      "INFO:sagemaker:Creating model with name: sagemaker-xgboost-2021-02-23-10-41-58-963\n"
     ]
    }
   ],
   "source": [
    "xgb_transformer = xgb.transformer(instance_count = 1, instance_type = 'ml.m4.xlarge')"
   ]
  },
  {
   "cell_type": "code",
   "execution_count": 68,
   "metadata": {},
   "outputs": [
    {
     "name": "stderr",
     "output_type": "stream",
     "text": [
      "INFO:sagemaker:Creating transform job with name: sagemaker-xgboost-2021-02-23-10-41-59-471\n"
     ]
    },
    {
     "name": "stdout",
     "output_type": "stream",
     "text": [
      "...................................\u001b[32m2021-02-23T10:47:42.573:[sagemaker logs]: MaxConcurrentTransforms=4, MaxPayloadInMB=6, BatchStrategy=MULTI_RECORD\u001b[0m\n",
      "\u001b[34m[2021-02-23:10:47:40:INFO] No GPUs detected (normal if no gpus installed)\u001b[0m\n",
      "\u001b[34m[2021-02-23:10:47:40:INFO] No GPUs detected (normal if no gpus installed)\u001b[0m\n",
      "\u001b[34m[2021-02-23:10:47:40:INFO] nginx config: \u001b[0m\n",
      "\u001b[34mworker_processes auto;\u001b[0m\n",
      "\u001b[34mdaemon off;\u001b[0m\n",
      "\u001b[34mpid /tmp/nginx.pid;\u001b[0m\n",
      "\u001b[34merror_log  /dev/stderr;\n",
      "\u001b[0m\n",
      "\u001b[35m[2021-02-23:10:47:40:INFO] No GPUs detected (normal if no gpus installed)\u001b[0m\n",
      "\u001b[35m[2021-02-23:10:47:40:INFO] No GPUs detected (normal if no gpus installed)\u001b[0m\n",
      "\u001b[35m[2021-02-23:10:47:40:INFO] nginx config: \u001b[0m\n",
      "\u001b[35mworker_processes auto;\u001b[0m\n",
      "\u001b[35mdaemon off;\u001b[0m\n",
      "\u001b[35mpid /tmp/nginx.pid;\u001b[0m\n",
      "\u001b[35merror_log  /dev/stderr;\n",
      "\u001b[0m\n",
      "\u001b[34mworker_rlimit_nofile 4096;\n",
      "\u001b[0m\n",
      "\u001b[34mevents {\n",
      "  worker_connections 2048;\u001b[0m\n",
      "\u001b[34m}\n",
      "\u001b[0m\n",
      "\u001b[34mhttp {\n",
      "  include /etc/nginx/mime.types;\n",
      "  default_type application/octet-stream;\n",
      "  access_log /dev/stdout combined;\n",
      "\n",
      "  upstream gunicorn {\n",
      "    server unix:/tmp/gunicorn.sock;\n",
      "  }\n",
      "\n",
      "  server {\n",
      "    listen 8080 deferred;\n",
      "    client_max_body_size 0;\n",
      "\n",
      "    keepalive_timeout 3;\n",
      "\n",
      "    location ~ ^/(ping|invocations|execution-parameters) {\n",
      "      proxy_set_header X-Forwarded-For $proxy_add_x_forwarded_for;\n",
      "      proxy_set_header Host $http_host;\n",
      "      proxy_redirect off;\n",
      "      proxy_read_timeout 60s;\n",
      "      proxy_pass http://gunicorn;\n",
      "    }\n",
      "\n",
      "    location / {\n",
      "      return 404 \"{}\";\n",
      "    }\n",
      "\n",
      "  }\u001b[0m\n",
      "\u001b[34m}\n",
      "\n",
      "\u001b[0m\n",
      "\u001b[34m2021/02/23 10:47:40 [crit] 20#20: *1 connect() to unix:/tmp/gunicorn.sock failed (2: No such file or directory) while connecting to upstream, client: 169.254.255.130, server: , request: \"GET /ping HTTP/1.1\", upstream: \"http://unix:/tmp/gunicorn.sock:/ping\", host: \"169.254.255.131:8080\"\u001b[0m\n",
      "\u001b[34m169.254.255.130 - - [23/Feb/2021:10:47:40 +0000] \"GET /ping HTTP/1.1\" 502 182 \"-\" \"Go-http-client/1.1\"\u001b[0m\n",
      "\u001b[34m2021/02/23 10:47:40 [crit] 20#20: *3 connect() to unix:/tmp/gunicorn.sock failed (2: No such file or directory) while connecting to upstream, client: 169.254.255.130, server: , request: \"GET /ping HTTP/1.1\", upstream: \"http://unix:/tmp/gunicorn.sock:/ping\", host: \"169.254.255.131:8080\"\u001b[0m\n",
      "\u001b[34m169.254.255.130 - - [23/Feb/2021:10:47:40 +0000] \"GET /ping HTTP/1.1\" 502 182 \"-\" \"Go-http-client/1.1\"\u001b[0m\n",
      "\u001b[34m[2021-02-23 10:47:40 +0000] [18] [INFO] Starting gunicorn 19.10.0\u001b[0m\n",
      "\u001b[34m[2021-02-23 10:47:40 +0000] [18] [INFO] Listening at: unix:/tmp/gunicorn.sock (18)\u001b[0m\n",
      "\u001b[34m[2021-02-23 10:47:40 +0000] [18] [INFO] Using worker: gevent\u001b[0m\n",
      "\u001b[34m[2021-02-23 10:47:40 +0000] [25] [INFO] Booting worker with pid: 25\u001b[0m\n",
      "\u001b[34m[2021-02-23 10:47:40 +0000] [26] [INFO] Booting worker with pid: 26\u001b[0m\n",
      "\u001b[34m[2021-02-23 10:47:40 +0000] [27] [INFO] Booting worker with pid: 27\u001b[0m\n",
      "\u001b[34m[2021-02-23 10:47:40 +0000] [31] [INFO] Booting worker with pid: 31\u001b[0m\n",
      "\u001b[34m[2021-02-23:10:47:42:INFO] No GPUs detected (normal if no gpus installed)\u001b[0m\n",
      "\u001b[34m169.254.255.130 - - [23/Feb/2021:10:47:42 +0000] \"GET /ping HTTP/1.1\" 200 0 \"-\" \"Go-http-client/1.1\"\u001b[0m\n",
      "\u001b[35mworker_rlimit_nofile 4096;\n",
      "\u001b[0m\n",
      "\u001b[35mevents {\n",
      "  worker_connections 2048;\u001b[0m\n",
      "\u001b[35m}\n",
      "\u001b[0m\n",
      "\u001b[35mhttp {\n",
      "  include /etc/nginx/mime.types;\n",
      "  default_type application/octet-stream;\n",
      "  access_log /dev/stdout combined;\n",
      "\n",
      "  upstream gunicorn {\n",
      "    server unix:/tmp/gunicorn.sock;\n",
      "  }\n",
      "\n",
      "  server {\n",
      "    listen 8080 deferred;\n",
      "    client_max_body_size 0;\n",
      "\n",
      "    keepalive_timeout 3;\n",
      "\n",
      "    location ~ ^/(ping|invocations|execution-parameters) {\n",
      "      proxy_set_header X-Forwarded-For $proxy_add_x_forwarded_for;\n",
      "      proxy_set_header Host $http_host;\n",
      "      proxy_redirect off;\n",
      "      proxy_read_timeout 60s;\n",
      "      proxy_pass http://gunicorn;\n",
      "    }\n",
      "\n",
      "    location / {\n",
      "      return 404 \"{}\";\n",
      "    }\n",
      "\n",
      "  }\u001b[0m\n",
      "\u001b[35m}\n",
      "\n",
      "\u001b[0m\n",
      "\u001b[35m2021/02/23 10:47:40 [crit] 20#20: *1 connect() to unix:/tmp/gunicorn.sock failed (2: No such file or directory) while connecting to upstream, client: 169.254.255.130, server: , request: \"GET /ping HTTP/1.1\", upstream: \"http://unix:/tmp/gunicorn.sock:/ping\", host: \"169.254.255.131:8080\"\u001b[0m\n",
      "\u001b[35m169.254.255.130 - - [23/Feb/2021:10:47:40 +0000] \"GET /ping HTTP/1.1\" 502 182 \"-\" \"Go-http-client/1.1\"\u001b[0m\n",
      "\u001b[35m2021/02/23 10:47:40 [crit] 20#20: *3 connect() to unix:/tmp/gunicorn.sock failed (2: No such file or directory) while connecting to upstream, client: 169.254.255.130, server: , request: \"GET /ping HTTP/1.1\", upstream: \"http://unix:/tmp/gunicorn.sock:/ping\", host: \"169.254.255.131:8080\"\u001b[0m\n",
      "\u001b[35m169.254.255.130 - - [23/Feb/2021:10:47:40 +0000] \"GET /ping HTTP/1.1\" 502 182 \"-\" \"Go-http-client/1.1\"\u001b[0m\n",
      "\u001b[35m[2021-02-23 10:47:40 +0000] [18] [INFO] Starting gunicorn 19.10.0\u001b[0m\n",
      "\u001b[35m[2021-02-23 10:47:40 +0000] [18] [INFO] Listening at: unix:/tmp/gunicorn.sock (18)\u001b[0m\n",
      "\u001b[35m[2021-02-23 10:47:40 +0000] [18] [INFO] Using worker: gevent\u001b[0m\n",
      "\u001b[35m[2021-02-23 10:47:40 +0000] [25] [INFO] Booting worker with pid: 25\u001b[0m\n",
      "\u001b[35m[2021-02-23 10:47:40 +0000] [26] [INFO] Booting worker with pid: 26\u001b[0m\n",
      "\u001b[35m[2021-02-23 10:47:40 +0000] [27] [INFO] Booting worker with pid: 27\u001b[0m\n",
      "\u001b[35m[2021-02-23 10:47:40 +0000] [31] [INFO] Booting worker with pid: 31\u001b[0m\n",
      "\u001b[35m[2021-02-23:10:47:42:INFO] No GPUs detected (normal if no gpus installed)\u001b[0m\n",
      "\u001b[35m169.254.255.130 - - [23/Feb/2021:10:47:42 +0000] \"GET /ping HTTP/1.1\" 200 0 \"-\" \"Go-http-client/1.1\"\u001b[0m\n",
      "\u001b[34m169.254.255.130 - - [23/Feb/2021:10:47:42 +0000] \"GET /execution-parameters HTTP/1.1\" 200 84 \"-\" \"Go-http-client/1.1\"\u001b[0m\n",
      "\u001b[34m[2021-02-23:10:47:42:INFO] Determined delimiter of CSV input is ','\u001b[0m\n",
      "\u001b[34m169.254.255.130 - - [23/Feb/2021:10:47:42 +0000] \"POST /invocations HTTP/1.1\" 200 9972 \"-\" \"Go-http-client/1.1\"\u001b[0m\n",
      "\u001b[34m[2021-02-23:10:47:42:INFO] No GPUs detected (normal if no gpus installed)\u001b[0m\n",
      "\u001b[34m[2021-02-23:10:47:42:INFO] Determined delimiter of CSV input is ','\u001b[0m\n",
      "\u001b[34m169.254.255.130 - - [23/Feb/2021:10:47:42 +0000] \"POST /invocations HTTP/1.1\" 200 19784 \"-\" \"Go-http-client/1.1\"\u001b[0m\n",
      "\u001b[35m169.254.255.130 - - [23/Feb/2021:10:47:42 +0000] \"GET /execution-parameters HTTP/1.1\" 200 84 \"-\" \"Go-http-client/1.1\"\u001b[0m\n",
      "\u001b[35m[2021-02-23:10:47:42:INFO] Determined delimiter of CSV input is ','\u001b[0m\n",
      "\u001b[35m169.254.255.130 - - [23/Feb/2021:10:47:42 +0000] \"POST /invocations HTTP/1.1\" 200 9972 \"-\" \"Go-http-client/1.1\"\u001b[0m\n",
      "\u001b[35m[2021-02-23:10:47:42:INFO] No GPUs detected (normal if no gpus installed)\u001b[0m\n",
      "\u001b[35m[2021-02-23:10:47:42:INFO] Determined delimiter of CSV input is ','\u001b[0m\n",
      "\u001b[35m169.254.255.130 - - [23/Feb/2021:10:47:42 +0000] \"POST /invocations HTTP/1.1\" 200 19784 \"-\" \"Go-http-client/1.1\"\u001b[0m\n",
      "\n"
     ]
    }
   ],
   "source": [
    "xgb_transformer.transform(test_location, content_type='text/csv', split_type='Line')"
   ]
  },
  {
   "cell_type": "code",
   "execution_count": 69,
   "metadata": {},
   "outputs": [
    {
     "name": "stdout",
     "output_type": "stream",
     "text": [
      "download: s3://sagemaker-us-east-1-745263080552/sagemaker-xgboost-2021-02-23-10-41-59-471/test.csv.out to stock_xgb_data/test.csv.out\n",
      "download: s3://sagemaker-us-east-1-745263080552/sagemaker-xgboost-2021-02-23-10-41-59-471/test.csv.out.out to stock_xgb_data/test.csv.out.out\n"
     ]
    }
   ],
   "source": [
    "!aws s3 cp --recursive $xgb_transformer.output_path $data_dir"
   ]
  },
  {
   "cell_type": "code",
   "execution_count": 70,
   "metadata": {},
   "outputs": [],
   "source": [
    "Y_pred = pd.read_csv(os.path.join(data_dir, 'test.csv.out'), header=None)"
   ]
  },
  {
   "cell_type": "code",
   "execution_count": 71,
   "metadata": {},
   "outputs": [
    {
     "data": {
      "text/plain": [
       "Text(0.5, 1.0, 'Adj Closing Price vs Predicted Price')"
      ]
     },
     "execution_count": 71,
     "metadata": {},
     "output_type": "execute_result"
    },
    {
     "data": {
      "image/png": "[encoded data removed]",
      "text/plain": [
       "<Figure size 1440x360 with 1 Axes>"
      ]
     },
     "metadata": {
      "needs_background": "light"
     },
     "output_type": "display_data"
    }
   ],
   "source": [
    "plt.figure(figsize=(20,5))\n",
    "plt.scatter(Y_test, Y_pred)\n",
    "plt.xlabel(\"Adjacent Closing Price\")\n",
    "plt.ylabel(\"Predicted Price\")\n",
    "plt.title(\"Adj Closing Price vs Predicted Price\")\n"
   ]
  },
  {
   "cell_type": "code",
   "execution_count": 72,
   "metadata": {},
   "outputs": [
    {
     "name": "stdout",
     "output_type": "stream",
     "text": [
      "xgb_rmse:  0.619825572224999\n",
      "xgb_mse:  0.3841837399840474\n"
     ]
    }
   ],
   "source": [
    "##calculating metrics: MSE and RMSE for non tuned model\n",
    "xgb_mse = mean_squared_error(Y_pred, Y_test)\n",
    "xgb_rmse = mean_squared_error(Y_pred, Y_test, squared=False)\n",
    "print('xgb_rmse: ', xgb_rmse)\n",
    "print('xgb_mse: ', xgb_mse)"
   ]
  },
  {
   "cell_type": "code",
   "execution_count": null,
   "metadata": {},
   "outputs": [],
   "source": []
  },
  {
   "cell_type": "markdown",
   "metadata": {},
   "source": [
    "**Hyperparameter tuning to choose from multiple hyperparameters options the best result xgboost**"
   ]
  },
  {
   "cell_type": "code",
   "execution_count": 73,
   "metadata": {},
   "outputs": [],
   "source": [
    "from sagemaker.tuner import IntegerParameter, ContinuousParameter, HyperparameterTuner\n",
    "\n",
    "xgb_hyperparameter_tuner = HyperparameterTuner(estimator = xgb, # The estimator object to use as the basis for the training jobs.\n",
    "                                               objective_metric_name = 'validation:rmse', # The metric used to compare trained models.\n",
    "                                               objective_type = 'Minimize', # Whether we wish to minimize or maximize the metric.\n",
    "                                               max_jobs = 20, # The total number of models to train\n",
    "                                               max_parallel_jobs = 3, # The number of models to train in parallel\n",
    "                                               hyperparameter_ranges = {\n",
    "                                                    'max_depth': IntegerParameter(3, 12),\n",
    "                                                    'eta'      : ContinuousParameter(0.05, 0.5),\n",
    "                                                    'min_child_weight': IntegerParameter(2, 8),\n",
    "                                                    'subsample': ContinuousParameter(0.5, 0.9),\n",
    "                                                    'gamma': ContinuousParameter(0, 10),\n",
    "                                               })"
   ]
  },
  {
   "cell_type": "code",
   "execution_count": 74,
   "metadata": {},
   "outputs": [
    {
     "name": "stderr",
     "output_type": "stream",
     "text": [
      "INFO:sagemaker.image_uris:Defaulting to the only supported framework/algorithm version: latest.\n",
      "INFO:sagemaker.image_uris:Ignoring unnecessary instance type: None.\n",
      "INFO:sagemaker:Creating hyperparameter tuning job with name: sagemaker-xgboost-210223-1048\n"
     ]
    },
    {
     "name": "stdout",
     "output_type": "stream",
     "text": [
      "....................................................................................................................................................................................................................................................................................................................................................................................!\n"
     ]
    }
   ],
   "source": [
    "xgb_hyperparameter_tuner.fit({'train': s3_input_train, 'validation': s3_input_validation})"
   ]
  },
  {
   "cell_type": "code",
   "execution_count": 75,
   "metadata": {},
   "outputs": [
    {
     "name": "stdout",
     "output_type": "stream",
     "text": [
      "!\n"
     ]
    }
   ],
   "source": [
    "xgb_hyperparameter_tuner.wait()"
   ]
  },
  {
   "cell_type": "code",
   "execution_count": 76,
   "metadata": {},
   "outputs": [
    {
     "data": {
      "text/plain": [
       "'sagemaker-xgboost-210223-1048-017-8c5e44de'"
      ]
     },
     "execution_count": 76,
     "metadata": {},
     "output_type": "execute_result"
    }
   ],
   "source": [
    "xgb_hyperparameter_tuner.best_training_job()"
   ]
  },
  {
   "cell_type": "code",
   "execution_count": 77,
   "metadata": {},
   "outputs": [
    {
     "name": "stdout",
     "output_type": "stream",
     "text": [
      "\n",
      "2021-02-23 11:14:30 Starting - Preparing the instances for training\n",
      "2021-02-23 11:14:30 Downloading - Downloading input data\n",
      "2021-02-23 11:14:30 Training - Training image download completed. Training in progress.\n",
      "2021-02-23 11:14:30 Uploading - Uploading generated training model\n",
      "2021-02-23 11:14:30 Completed - Training job completed\n"
     ]
    }
   ],
   "source": [
    "xgb_attached = sagemaker.estimator.Estimator.attach(xgb_hyperparameter_tuner.best_training_job())"
   ]
  },
  {
   "cell_type": "code",
   "execution_count": 78,
   "metadata": {},
   "outputs": [
    {
     "name": "stderr",
     "output_type": "stream",
     "text": [
      "INFO:sagemaker:Creating model with name: sagemaker-xgboost-2021-02-23-11-19-38-114\n"
     ]
    }
   ],
   "source": [
    "xgb_transformer = xgb_attached.transformer(instance_count = 1, instance_type = 'ml.m4.xlarge')"
   ]
  },
  {
   "cell_type": "code",
   "execution_count": 79,
   "metadata": {},
   "outputs": [
    {
     "name": "stderr",
     "output_type": "stream",
     "text": [
      "INFO:sagemaker:Creating transform job with name: sagemaker-xgboost-2021-02-23-11-19-38-498\n"
     ]
    },
    {
     "name": "stdout",
     "output_type": "stream",
     "text": [
      ".................................\n",
      "\u001b[34m[2021-02-23:11:25:01:INFO] No GPUs detected (normal if no gpus installed)\u001b[0m\n",
      "\u001b[34m[2021-02-23:11:25:01:INFO] No GPUs detected (normal if no gpus installed)\u001b[0m\n",
      "\u001b[34m[2021-02-23:11:25:01:INFO] nginx config: \u001b[0m\n",
      "\u001b[34mworker_processes auto;\u001b[0m\n",
      "\u001b[34mdaemon off;\u001b[0m\n",
      "\u001b[34mpid /tmp/nginx.pid;\u001b[0m\n",
      "\u001b[34merror_log  /dev/stderr;\n",
      "\u001b[0m\n",
      "\u001b[34mworker_rlimit_nofile 4096;\n",
      "\u001b[0m\n",
      "\u001b[34mevents {\n",
      "  worker_connections 2048;\u001b[0m\n",
      "\u001b[34m}\n",
      "\u001b[0m\n",
      "\u001b[34mhttp {\n",
      "  include /etc/nginx/mime.types;\n",
      "  default_type application/octet-stream;\n",
      "  access_log /dev/stdout combined;\n",
      "\n",
      "  upstream gunicorn {\n",
      "    server unix:/tmp/gunicorn.sock;\n",
      "  }\n",
      "\n",
      "  server {\n",
      "    listen 8080 deferred;\n",
      "    client_max_body_size 0;\n",
      "\n",
      "    keepalive_timeout 3;\n",
      "\n",
      "    location ~ ^/(ping|invocations|execution-parameters) {\n",
      "      proxy_set_header X-Forwarded-For $proxy_add_x_forwarded_for;\n",
      "      proxy_set_header Host $http_host;\n",
      "      proxy_redirect off;\n",
      "      proxy_read_timeout 60s;\n",
      "      proxy_pass http://gunicorn;\n",
      "    }\n",
      "\n",
      "    location / {\n",
      "      return 404 \"{}\";\n",
      "    }\n",
      "\n",
      "  }\u001b[0m\n",
      "\u001b[34m}\n",
      "\n",
      "\u001b[0m\n",
      "\u001b[34m2021/02/23 11:25:01 [crit] 19#19: *1 connect() to unix:/tmp/gunicorn.sock failed (2: No such file or directory) while connecting to upstream, client: 169.254.255.130, server: , request: \"GET /ping HTTP/1.1\", upstream: \"http://unix:/tmp/gunicorn.sock:/ping\", host: \"169.254.255.131:8080\"\u001b[0m\n",
      "\u001b[34m169.254.255.130 - - [23/Feb/2021:11:25:01 +0000] \"GET /ping HTTP/1.1\" 502 182 \"-\" \"Go-http-client/1.1\"\u001b[0m\n",
      "\u001b[34m2021/02/23 11:25:01 [crit] 19#19: *3 connect() to unix:/tmp/gunicorn.sock failed (2: No such file or directory) while connecting to upstream, client: 169.254.255.130, server: , request: \"GET /ping HTTP/1.1\", upstream: \"http://unix:/tmp/gunicorn.sock:/ping\", host: \"169.254.255.131:8080\"\u001b[0m\n",
      "\u001b[34m169.254.255.130 - - [23/Feb/2021:11:25:01 +0000] \"GET /ping HTTP/1.1\" 502 182 \"-\" \"Go-http-client/1.1\"\u001b[0m\n",
      "\u001b[34m[2021-02-23 11:25:01 +0000] [18] [INFO] Starting gunicorn 19.10.0\u001b[0m\n",
      "\u001b[34m[2021-02-23 11:25:01 +0000] [18] [INFO] Listening at: unix:/tmp/gunicorn.sock (18)\u001b[0m\n",
      "\u001b[34m[2021-02-23 11:25:01 +0000] [18] [INFO] Using worker: gevent\u001b[0m\n",
      "\u001b[34m[2021-02-23 11:25:01 +0000] [25] [INFO] Booting worker with pid: 25\u001b[0m\n",
      "\u001b[34m[2021-02-23 11:25:01 +0000] [26] [INFO] Booting worker with pid: 26\u001b[0m\n",
      "\u001b[34m[2021-02-23 11:25:01 +0000] [30] [INFO] Booting worker with pid: 30\u001b[0m\n",
      "\u001b[34m[2021-02-23 11:25:01 +0000] [31] [INFO] Booting worker with pid: 31\u001b[0m\n",
      "\u001b[34m[2021-02-23:11:25:03:INFO] No GPUs detected (normal if no gpus installed)\u001b[0m\n",
      "\u001b[34m169.254.255.130 - - [23/Feb/2021:11:25:03 +0000] \"GET /ping HTTP/1.1\" 200 0 \"-\" \"Go-http-client/1.1\"\u001b[0m\n",
      "\u001b[34m169.254.255.130 - - [23/Feb/2021:11:25:03 +0000] \"GET /execution-parameters HTTP/1.1\" 200 84 \"-\" \"Go-http-client/1.1\"\u001b[0m\n",
      "\u001b[34m[2021-02-23:11:25:03:INFO] No GPUs detected (normal if no gpus installed)\u001b[0m\n",
      "\u001b[34m[2021-02-23:11:25:03:INFO] Determined delimiter of CSV input is ','\u001b[0m\n",
      "\u001b[34m169.254.255.130 - - [23/Feb/2021:11:25:03 +0000] \"POST /invocations HTTP/1.1\" 200 19838 \"-\" \"Go-http-client/1.1\"\u001b[0m\n",
      "\u001b[34m[2021-02-23:11:25:03:INFO] Determined delimiter of CSV input is ','\u001b[0m\n",
      "\u001b[34m169.254.255.130 - - [23/Feb/2021:11:25:03 +0000] \"POST /invocations HTTP/1.1\" 200 9972 \"-\" \"Go-http-client/1.1\"\u001b[0m\n",
      "\u001b[32m2021-02-23T11:25:03.341:[sagemaker logs]: MaxConcurrentTransforms=4, MaxPayloadInMB=6, BatchStrategy=MULTI_RECORD\u001b[0m\n"
     ]
    }
   ],
   "source": [
    "xgb_transformer.transform(test_location, content_type='text/csv', split_type='Line')"
   ]
  },
  {
   "cell_type": "code",
   "execution_count": 80,
   "metadata": {},
   "outputs": [
    {
     "name": "stdout",
     "output_type": "stream",
     "text": [
      "download: s3://sagemaker-us-east-1-745263080552/sagemaker-xgboost-2021-02-23-11-19-38-498/test.csv.out to stock_xgb_data/test.csv.out\n",
      "download: s3://sagemaker-us-east-1-745263080552/sagemaker-xgboost-2021-02-23-11-19-38-498/test.csv.out.out to stock_xgb_data/test.csv.out.out\n"
     ]
    }
   ],
   "source": [
    "!aws s3 cp --recursive $xgb_transformer.output_path $data_dir"
   ]
  },
  {
   "cell_type": "code",
   "execution_count": 81,
   "metadata": {},
   "outputs": [],
   "source": [
    "Y_pred = pd.read_csv(os.path.join(data_dir, 'test.csv.out'), header=None)"
   ]
  },
  {
   "cell_type": "code",
   "execution_count": 82,
   "metadata": {},
   "outputs": [
    {
     "data": {
      "text/plain": [
       "Text(0.5, 1.0, 'Adj Closing Price vs Predicted Price')"
      ]
     },
     "execution_count": 82,
     "metadata": {},
     "output_type": "execute_result"
    },
    {
     "data": {
      "image/png": "[encoded data removed]",
      "text/plain": [
       "<Figure size 1440x360 with 1 Axes>"
      ]
     },
     "metadata": {
      "needs_background": "light"
     },
     "output_type": "display_data"
    }
   ],
   "source": [
    "plt.figure(figsize=(20,5))\n",
    "plt.scatter(Y_test, Y_pred, color='r')\n",
    "plt.xlabel(\"Adjacent Closing Price\")\n",
    "plt.ylabel(\"Predicted Price\")\n",
    "plt.title(\"Adj Closing Price vs Predicted Price\")\n"
   ]
  },
  {
   "cell_type": "code",
   "execution_count": 83,
   "metadata": {},
   "outputs": [
    {
     "name": "stdout",
     "output_type": "stream",
     "text": [
      "xgb_rmse:  0.5937519994019596\n",
      "xgb_mse:  0.3525414367938246\n"
     ]
    }
   ],
   "source": [
    "##calculating metrics: MSE and RMSE for hyperparameter tuned model\n",
    "xgb_mse = mean_squared_error(Y_pred, Y_test)\n",
    "xgb_rmse = mean_squared_error(Y_pred, Y_test, squared=False)\n",
    "print('xgb_rmse: ', xgb_rmse)\n",
    "print('xgb_mse: ', xgb_mse)"
   ]
  },
  {
   "cell_type": "code",
   "execution_count": null,
   "metadata": {},
   "outputs": [],
   "source": []
  },
  {
   "cell_type": "code",
   "execution_count": null,
   "metadata": {},
   "outputs": [],
   "source": []
  },
  {
   "cell_type": "code",
   "execution_count": 84,
   "metadata": {},
   "outputs": [],
   "source": [
    "# First we will remove all of the files contained in the data_dir directory\n",
    "#!rm $data_dir/*\n",
    "\n",
    "# And then we delete the directory itself\n",
    "#!rmdir $data_dir"
   ]
  },
  {
   "cell_type": "code",
   "execution_count": 85,
   "metadata": {},
   "outputs": [],
   "source": [
    "!rm $data_dir/*\n",
    "!rmdir $data_dir"
   ]
  },
  {
   "cell_type": "code",
   "execution_count": null,
   "metadata": {},
   "outputs": [],
   "source": []
  }
 ],
 "metadata": {
  "kernelspec": {
   "display_name": "Python 3",
   "language": "python",
   "name": "python3"
  },
  "language_info": {
   "codemirror_mode": {
    "name": "ipython",
    "version": 3
   },
   "file_extension": ".py",
   "mimetype": "text/x-python",
   "name": "python",
   "nbconvert_exporter": "python",
   "pygments_lexer": "ipython3",
   "version": "3.7.9"
  }
 },
 "nbformat": 4,
 "nbformat_minor": 5
}
